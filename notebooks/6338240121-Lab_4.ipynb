{
  "cells": [
    {
      "cell_type": "code",
      "execution_count": 1,
      "id": "189a8522",
      "metadata": {
        "deletable": false,
        "editable": false,
        "id": "189a8522",
        "nbgrader": {
          "cell_type": "code",
          "checksum": "ee7f1cf5444a2d0fe9269f4e4b53c900",
          "grade": false,
          "grade_id": "cell-508f93dcdc453449",
          "locked": true,
          "schema_version": 3,
          "solution": false,
          "task": false
        }
      },
      "outputs": [],
      "source": [
        "# Required for test cases\n",
        "def is_overridden(func):\n",
        "    obj = func.__self__\n",
        "    parent_methods = getattr(super(type(obj), obj), func.__name__)\n",
        "\n",
        "    return func.__func__ != parent_methods.__func__"
      ]
    },
    {
      "cell_type": "markdown",
      "id": "c7424766",
      "metadata": {
        "deletable": false,
        "editable": false,
        "id": "c7424766",
        "nbgrader": {
          "cell_type": "markdown",
          "checksum": "bb6cbeefe50a0d07d1b0ae6fda682075",
          "grade": false,
          "grade_id": "cell-d7ec3cd6aa42a5be",
          "locked": true,
          "schema_version": 3,
          "solution": false,
          "task": false
        }
      },
      "source": [
        "Class `Account` is defined as an abstract base class (ABC).\n",
        "- `__init__(self,  name, balance):` takes two parameters `name`, which represents the account holder's name, and `balance`, which represents the initial balance of the account.\n",
        "    - These parameters are set to the instance variables `name` and `balance` respectively\n",
        "    - The `balance` stores the current balance of the account. It's a private attribute and can be accessed through the balance property. The `__balance` attribute must be ensured to remain non-negative whenever it is updated.\n",
        "- `deposit(self, amount)` and `withdraw(self, amount):` handle transactions, raising ValueError if the input amount is negative or exceeds the available balance, respectively.\n",
        "- `show(self)` returns the message of the account holder's name and current balance.\n",
        "- `calculate_interest(self)`, marked as abstract, calculates interest for the account."
      ]
    },
    {
      "cell_type": "markdown",
      "id": "4558d958",
      "metadata": {
        "deletable": false,
        "editable": false,
        "id": "4558d958",
        "nbgrader": {
          "cell_type": "markdown",
          "checksum": "948312a494fc4bcd9314f18bc98283b6",
          "grade": false,
          "grade_id": "cell-e0dbdf1bd8a1b012",
          "locked": true,
          "schema_version": 3,
          "solution": false,
          "task": false
        }
      },
      "source": [
        "**Q1:** Implement getter and setter for the `__balance` attribute"
      ]
    },
    {
      "cell_type": "code",
      "execution_count": 2,
      "id": "ca01a5e4",
      "metadata": {
        "deletable": false,
        "id": "ca01a5e4",
        "nbgrader": {
          "cell_type": "code",
          "checksum": "2d1bbbcdbd3a1e77a1f883939630aee7",
          "grade": false,
          "grade_id": "cell-fa1fc994706ebb9c",
          "locked": false,
          "schema_version": 3,
          "solution": true,
          "task": false
        }
      },
      "outputs": [],
      "source": [
        "from abc import ABC, abstractmethod\n",
        "class Account(ABC):\n",
        "    # YOUR CODE HERE\n",
        "    def __init__(self, name, balance):\n",
        "        self.name = name\n",
        "        self.balance = balance\n",
        "\n",
        "    @property\n",
        "    def balance(self):\n",
        "        return self.__balance\n",
        "\n",
        "    @balance.setter\n",
        "    def balance(self, balance):\n",
        "        if balance < 0:\n",
        "            raise ValueError('Balance must be non-negative')\n",
        "        self.__balance = balance\n",
        "\n",
        "    def deposit(self, amount):\n",
        "        if amount < 0:\n",
        "            raise ValueError('Deposit amount must be non-negative')\n",
        "        self.balance += amount\n",
        "        return self.balance\n",
        "\n",
        "    def withdraw(self, amount):\n",
        "        if amount < 0:\n",
        "            raise ValueError('Withdrawal amount must be non-negative')\n",
        "        if amount > self.balance:\n",
        "            raise ValueError('Withdrawal amount exceeds available balance')\n",
        "        self.balance -= amount\n",
        "        return self.balance\n",
        "\n",
        "    def show(self):\n",
        "        txt = ' Name: ' + self.name + '\\n'\n",
        "        txt += ' Balance: ' + str(self.balance) + '\\n'\n",
        "        return txt\n",
        "\n",
        "    @abstractmethod\n",
        "    def calculate_interest(self):\n",
        "        raise NotImplementedError"
      ]
    },
    {
      "cell_type": "markdown",
      "id": "ee41ded0",
      "metadata": {
        "deletable": false,
        "editable": false,
        "id": "ee41ded0",
        "nbgrader": {
          "cell_type": "markdown",
          "checksum": "fd7c505ff1e2e86cbf231a6c8651ee82",
          "grade": false,
          "grade_id": "cell-0d540738b8ca4af0",
          "locked": true,
          "schema_version": 3,
          "solution": false,
          "task": false
        }
      },
      "source": [
        "**Q2:** Complete the following subclasses that extend the functionality of the base `Account` class, providing specialized behavior for different types of financial accounts as follows."
      ]
    },
    {
      "cell_type": "markdown",
      "id": "d3c8a679",
      "metadata": {
        "deletable": false,
        "editable": false,
        "id": "d3c8a679",
        "nbgrader": {
          "cell_type": "markdown",
          "checksum": "475a576a7b049ed86f2f00a5cb079df6",
          "grade": false,
          "grade_id": "cell-ab786ceed324f406",
          "locked": true,
          "schema_version": 3,
          "solution": false,
          "task": false
        }
      },
      "source": [
        "The `SavingsAccount` class is a subclass of the `Account` class, representing a savings account.\n",
        "- It initializes with the account holder's name (`name`), initial balance (`balance`), and the interest rate (`interest_rate`) for calculating interest.\n",
        "- The `calculate_interest(self)` method calculates the interest earned based on the account balance and the specified interest rate."
      ]
    },
    {
      "cell_type": "code",
      "execution_count": 3,
      "id": "1df82962",
      "metadata": {
        "deletable": false,
        "id": "1df82962",
        "nbgrader": {
          "cell_type": "code",
          "checksum": "95ede849b64b9e14bf3d74a55718eb9d",
          "grade": false,
          "grade_id": "cell-59e42326bf0c4dd1",
          "locked": false,
          "schema_version": 3,
          "solution": true,
          "task": false
        }
      },
      "outputs": [],
      "source": [
        "class SavingsAccount(Account):\n",
        "    # YOUR CODE HERE\n",
        "    def __init__(self, name, balance, interest_rate):\n",
        "        super().__init__(name, balance)\n",
        "        self.interest_rate = interest_rate\n",
        "    \n",
        "    @property\n",
        "    def interest_rate(self):\n",
        "        return self._interest_rate\n",
        "\n",
        "    @interest_rate.setter\n",
        "    def interest_rate(self, interest_rate):\n",
        "        self._interest_rate = interest_rate\n",
        "\n",
        "    def calculate_interest(self):\n",
        "        return self._interest_rate * self.balance / 100"
      ]
    },
    {
      "cell_type": "code",
      "execution_count": 4,
      "id": "dba91f11",
      "metadata": {
        "deletable": false,
        "editable": false,
        "id": "dba91f11",
        "nbgrader": {
          "cell_type": "code",
          "checksum": "e55fa934caa7f8707a036760f48c195c",
          "grade": true,
          "grade_id": "cell-428da38721a810d3",
          "locked": true,
          "points": 1,
          "schema_version": 3,
          "solution": false,
          "task": false
        }
      },
      "outputs": [
        {
          "name": "stdout",
          "output_type": "stream",
          "text": [
            "All test cases passed!\n"
          ]
        }
      ],
      "source": [
        "def test_savings_account():\n",
        "    # Create a savings account with initial balance and interest rate\n",
        "    acc = SavingsAccount('John', 1000, 2.5)\n",
        "\n",
        "    # Test method overriding\n",
        "    assert is_overridden(acc.deposit) == False\n",
        "    assert is_overridden(acc.withdraw) == False\n",
        "    assert is_overridden(acc.show) == False\n",
        "    assert is_overridden(acc.calculate_interest) == True\n",
        "\n",
        "    # Test initialization\n",
        "    assert acc.name == 'John'\n",
        "    assert acc.balance == 1000\n",
        "    assert acc._interest_rate == 2.5\n",
        "\n",
        "    # Test calculate interest method\n",
        "    interest = acc.calculate_interest()\n",
        "    assert interest == 25.0  # (1000 * 2.5) / 100 = 25.0\n",
        "\n",
        "    # Test the initialization with negative balance\n",
        "    try:\n",
        "        SavingsAccount('John', -1000, 2.5)\n",
        "    except Exception:\n",
        "        pass\n",
        "    else:\n",
        "        raise AssertionError(\"Expected ValueError not raised\")\n",
        "\n",
        "    print(\"All test cases passed!\")\n",
        "\n",
        "# Run test cases\n",
        "test_savings_account()"
      ]
    },
    {
      "cell_type": "markdown",
      "id": "9db87862",
      "metadata": {
        "deletable": false,
        "editable": false,
        "id": "9db87862",
        "nbgrader": {
          "cell_type": "markdown",
          "checksum": "f83cc9ad0f7d02be4aaf1eb56d61cab9",
          "grade": false,
          "grade_id": "cell-55e09d5a2cc1c867",
          "locked": true,
          "schema_version": 3,
          "solution": false,
          "task": false
        }
      },
      "source": [
        "The `CheckingAccount` class is also a subclass of the `Account` class, representing a checking account.\n",
        "- It initializes with the account holder's name (`name`), initial balance (`balance`), and the overdraft limit (`overdraft_limit`), which defines the maximum negative balance allowed.\n",
        "- The `calculate_interest(self)` method returns 0, indicating that checking accounts typically do not earn interest.\n",
        "- The `deposit(self, amount)` allows depositing a certain amount into the checking account.\n",
        "    - If the overdraft is not utilized (i.e., `_overdraft` == 0), the amount is directly deposited into the account balance using the superclass's `deposit` method. The overdraft remains unaffected.\n",
        "    - If there is an overdraft (i.e., `_overdraft` > 0), the deposited amount is first used to cover the overdraft.\n",
        "        - If the deposited amount is greater than or equal to the overdraft, the overdraft is fully covered, and the remaining amount is added to the account balance.\n",
        "        - If the deposited amount is less than the overdraft, the deposited amount is subtracted from the overdraft, and the balance remains zero.\n",
        "    - Finally, the method returns a tuple containing the updated balance and overdraft.\n",
        "\n",
        "- The `withdraw(self, amount)` method allows withdrawing money from the account, checking against the available balance, the current overdraft, and the overdraft limit.\n",
        "    - If the requested withdrawal amount is less than or equal to the current balance, the withdrawal is straightforward and is handled by the superclass's withdraw method, which updates the balance accordingly.\n",
        "    - Otherwise, the requested amount is further chekced against the available funds (current balance + overdraft limit - current overdraft).\n",
        "        - If the requested withdrawal amount exceeds the available funds, a ValueError is raised with an appropriate message.\n",
        "        - If the requested withdrawal amount can be covered by the available funds, the balance is set to zero, and the remaining amount needed to cover the withdrawal is added to the overdraft.\n",
        "    - Finally, the method returns a tuple containing the updated balance and overdraft.\n",
        "\n",
        "- The `show` method returns the message of the account holder's name, balance, and overdraft."
      ]
    },
    {
      "cell_type": "code",
      "execution_count": 5,
      "id": "f1d1ce8c",
      "metadata": {
        "deletable": false,
        "id": "f1d1ce8c",
        "nbgrader": {
          "cell_type": "code",
          "checksum": "a0393040324e3442c2ecf796068494dd",
          "grade": false,
          "grade_id": "cell-b97510ccc86aa4ff",
          "locked": false,
          "schema_version": 3,
          "solution": true,
          "task": false
        }
      },
      "outputs": [],
      "source": [
        "class CheckingAccount(Account):\n",
        "    # YOUR CODE HERE\n",
        "    def __init__(self, name, balance, overdraft_limit = 0):\n",
        "        super().__init__(name, balance)\n",
        "        self.overdraft_limit = overdraft_limit\n",
        "        self.overdraft = 0\n",
        "    \n",
        "    @property\n",
        "    def overdraft_limit(self):\n",
        "        return self._overdraft_limit\n",
        "    \n",
        "    @overdraft_limit.setter\n",
        "    def overdraft_limit(self, overdraft_limit):\n",
        "        self._overdraft_limit = overdraft_limit\n",
        "    \n",
        "    @property\n",
        "    def overdraft(self):\n",
        "        return self._overdraft\n",
        "    \n",
        "    @overdraft.setter\n",
        "    def overdraft(self, overdraft):\n",
        "        if overdraft > self.overdraft_limit:\n",
        "            raise ValueError('Overdraft exceeds overdraft limit')\n",
        "        self._overdraft = overdraft\n",
        "\n",
        "    def calculate_interest(self):\n",
        "        return 0\n",
        "\n",
        "    def deposit(self, amount):\n",
        "        if self.overdraft == 0:\n",
        "            super().deposit(amount)\n",
        "        elif self.overdraft > 0:\n",
        "            if amount >= self.overdraft:\n",
        "                amount = amount - self.overdraft\n",
        "                self.overdraft = 0\n",
        "                self.balance += amount\n",
        "            else:\n",
        "                self.overdraft = self.overdraft - amount\n",
        "                self.balance = 0\n",
        "        return (self.balance, self.overdraft)\n",
        "    \n",
        "    def withdraw(self, amount):\n",
        "        if amount <= self.balance:\n",
        "            super().withdraw(amount)\n",
        "        else:\n",
        "            available_fund = self.balance + self.overdraft_limit - self.overdraft\n",
        "            if amount > available_fund:\n",
        "                raise ValueError('Withdrawal amount exceeds available balance')\n",
        "            else:\n",
        "                self.overdraft += amount - self.balance\n",
        "                self.balance = 0\n",
        "        return (self.balance, self.overdraft)\n",
        "    \n",
        "    def show(self):\n",
        "        txt = ' Name: ' + self.name + '\\n'\n",
        "        txt += ' Balance: ' + str(self.balance) + '\\n'\n",
        "        txt += ' Overdraft: ' + str(self.overdraft) + '\\n'\n",
        "        return txt"
      ]
    },
    {
      "cell_type": "code",
      "execution_count": 6,
      "id": "d54e75e0",
      "metadata": {
        "deletable": false,
        "editable": false,
        "id": "d54e75e0",
        "nbgrader": {
          "cell_type": "code",
          "checksum": "72d9c1f9c1ec1d8f45f8e729e12d6db7",
          "grade": true,
          "grade_id": "cell-7c2c6002bca86c56",
          "locked": true,
          "points": 2,
          "schema_version": 3,
          "solution": false,
          "task": false
        }
      },
      "outputs": [
        {
          "name": "stdout",
          "output_type": "stream",
          "text": [
            "All test cases passed!\n"
          ]
        }
      ],
      "source": [
        "def test_checking_account():\n",
        "    # Create a CheckingAccount object\n",
        "    acc = CheckingAccount('Alice', 1000, 500)\n",
        "\n",
        "    # Test method overriding\n",
        "    assert is_overridden(acc.deposit) == True\n",
        "    assert is_overridden(acc.withdraw) == True\n",
        "    assert is_overridden(acc.show) == True\n",
        "    assert is_overridden(acc.calculate_interest) == True\n",
        "\n",
        "    # Test initialization\n",
        "    assert acc.name == 'Alice'\n",
        "    assert acc.balance == 1000\n",
        "    assert acc._overdraft_limit == 500\n",
        "    assert acc._overdraft == 0\n",
        "\n",
        "    # Test deposit method\n",
        "    acc.deposit(200)\n",
        "    assert acc.balance == 1200\n",
        "    assert acc._overdraft == 0\n",
        "\n",
        "    # Test withdraw method\n",
        "    acc.withdraw(300)\n",
        "    assert acc.balance == 900\n",
        "    assert acc._overdraft == 0\n",
        "\n",
        "    # Test overdraft functionality\n",
        "    acc.withdraw(1300)\n",
        "    assert acc.balance == 0\n",
        "    assert acc._overdraft == 400\n",
        "\n",
        "    # Test deposit to reduce overdraft\n",
        "    acc.deposit(40)\n",
        "    assert acc.balance == 0\n",
        "    assert acc._overdraft == 360\n",
        "\n",
        "    # Test deposit to cover overdraft\n",
        "    acc.deposit(400)\n",
        "    assert acc.balance == 40\n",
        "    assert acc._overdraft == 0\n",
        "\n",
        "    # Test withdrawal exceeding balance and overdraft limit\n",
        "    try:\n",
        "        acc.withdraw(600)\n",
        "    except ValueError as e:\n",
        "        pass\n",
        "    else:\n",
        "        raise AssertionError(\"Expected ValueError not raised\")\n",
        "\n",
        "    print(\"All test cases passed!\")\n",
        "\n",
        "# Run test cases\n",
        "test_checking_account()"
      ]
    },
    {
      "cell_type": "markdown",
      "id": "82cce6b3",
      "metadata": {
        "deletable": false,
        "editable": false,
        "id": "82cce6b3",
        "nbgrader": {
          "cell_type": "markdown",
          "checksum": "e29146924e812e7dee9395a184c6aa96",
          "grade": false,
          "grade_id": "cell-7c6928da09c1d778",
          "locked": true,
          "schema_version": 3,
          "solution": false,
          "task": false
        }
      },
      "source": [
        "The `PremiumFeatures` class provides additional features for premium accounts.\n",
        "\n",
        "- `__init__(self, bonus_interest_rate):`\n",
        "    - Initializes a new instance of the PremiumFeatures class with a bonus interest rate.\n",
        "    - Parameters:\n",
        "        - `bonus_interest_rate`: The bonus interest rate for the premium account.\n",
        "- `calcuate_bonus_interest(self, balance):`\n",
        "    - Calculates the bonus interest based on the balance of the account.\n",
        "    - Parameters:\n",
        "        - `balance`: The current balance of the account.\n",
        "    - Returns the calculated bonus interest."
      ]
    },
    {
      "cell_type": "code",
      "execution_count": 7,
      "id": "6d1b0aab",
      "metadata": {
        "deletable": false,
        "editable": false,
        "id": "6d1b0aab",
        "nbgrader": {
          "cell_type": "code",
          "checksum": "c9d36d79f0f6d3584b39ac0bd0ea6d17",
          "grade": false,
          "grade_id": "cell-be006a2c303b80c8",
          "locked": true,
          "schema_version": 3,
          "solution": false,
          "task": false
        }
      },
      "outputs": [],
      "source": [
        "class PremiumFeatures:\n",
        "    def __init__(self, bonus_interest_rate):\n",
        "        self._bonus_interest_rate = bonus_interest_rate\n",
        "\n",
        "    def calcuate_bonus_interest(self, balance):\n",
        "        bonus_interest = balance * self._bonus_interest_rate / 100\n",
        "        return bonus_interest"
      ]
    },
    {
      "cell_type": "markdown",
      "id": "48656d25",
      "metadata": {
        "deletable": false,
        "editable": false,
        "id": "48656d25",
        "nbgrader": {
          "cell_type": "markdown",
          "checksum": "70c58f6353d089ea0234eff547471fa4",
          "grade": false,
          "grade_id": "cell-5daf80a9b37995c2",
          "locked": true,
          "schema_version": 3,
          "solution": false,
          "task": false
        }
      },
      "source": [
        "**Q3:** Create the subclass, `PremiumAccount` which represents a premium savings account with additional bonus interest features (multiple inheritance). The `PremiumAccount` class combines functionalities from the `SavingsAccount` class and the `PremiumFeatures` class to offer a comprehensive solution for managing premium accounts.\n",
        "\n",
        "- `__init__(self, name, balance, interest_rate, bonus_interest_rate):`\n",
        "    - Initializes a new instance of the PremiumAccount class.\n",
        "    - Calls the constructors of parent classes (SavingsAccount and PremiumFeatures) to initialize attributes.\n",
        "    - Parameters:\n",
        "        - `name`: The name of the account holder.\n",
        "        - `balance`: The initial balance of the account.\n",
        "        - `interest_rate`: The base interest rate for calculating interest.\n",
        "        - `bonus_interest_rate`: The rate of bonus interest applicable to the account.\n",
        "- `calculate_interest(self):`\n",
        "    - Calculates the total interest earned by the premium account.\n",
        "    - Calls the `calculate_interest` method of the `SavingsAccount` superclass to calculate base interest.\n",
        "    - Calls the `calcuate_bonus_interest` method of the `PremiumFeatures` superclass to calculate bonus interest.\n",
        "    - Returns the sum of base interest and bonus interest as the total interest earned."
      ]
    },
    {
      "cell_type": "code",
      "execution_count": 8,
      "id": "01c7fca8",
      "metadata": {
        "deletable": false,
        "id": "01c7fca8",
        "nbgrader": {
          "cell_type": "code",
          "checksum": "5ce3112a364d64ca809c572a4a22b660",
          "grade": false,
          "grade_id": "cell-2f6febf1a55bfe44",
          "locked": false,
          "schema_version": 3,
          "solution": true,
          "task": false
        }
      },
      "outputs": [],
      "source": [
        "# YOUR CODE HERE\n",
        "class PremiumAccount(SavingsAccount, PremiumFeatures):\n",
        "    def __init__(self, name, balance, interest_rate, bonus_interest_rate):\n",
        "        SavingsAccount.__init__(self, name, balance, interest_rate)\n",
        "        PremiumFeatures.__init__(self, bonus_interest_rate)\n",
        "    \n",
        "    def calculate_interest(self):\n",
        "        interest = super().calculate_interest()\n",
        "        bonus_interest = self.calcuate_bonus_interest(self.balance)\n",
        "        return interest + bonus_interest"
      ]
    },
    {
      "cell_type": "code",
      "execution_count": 9,
      "id": "ee3fdbce",
      "metadata": {
        "deletable": false,
        "editable": false,
        "id": "ee3fdbce",
        "nbgrader": {
          "cell_type": "code",
          "checksum": "c1acd6ca7305718b6f48f2155f1ae1fc",
          "grade": true,
          "grade_id": "cell-70948072da3533d6",
          "locked": true,
          "points": 1,
          "schema_version": 3,
          "solution": false,
          "task": false
        }
      },
      "outputs": [
        {
          "name": "stdout",
          "output_type": "stream",
          "text": [
            "All test cases passed!\n"
          ]
        }
      ],
      "source": [
        "def test_premium_account():\n",
        "    acc = PremiumAccount(\"Dan\", 1000, 2.0, 0.5)\n",
        "\n",
        "    # Test method overriding\n",
        "    assert is_overridden(acc.deposit) == False\n",
        "    assert is_overridden(acc.withdraw) == False\n",
        "    assert is_overridden(acc.show) == False\n",
        "    assert is_overridden(acc.calculate_interest) == True\n",
        "\n",
        "    # Test initialization\n",
        "    assert acc.name == \"Dan\"\n",
        "    assert acc.balance == 1000\n",
        "    assert acc._interest_rate == 2.0\n",
        "    assert acc._bonus_interest_rate == 0.5\n",
        "\n",
        "    # Test calculate_interest\n",
        "    # Total interest = 20 + 5 = 25\n",
        "    assert acc.calculate_interest() == 25\n",
        "\n",
        "    # Test withdraw\n",
        "    acc.withdraw(200)\n",
        "    assert acc.balance == 800\n",
        "\n",
        "    # Test deposit\n",
        "    acc.deposit(500)\n",
        "    assert acc.balance == 1300\n",
        "\n",
        "    print(\"All test cases passed!\")\n",
        "\n",
        "test_premium_account()"
      ]
    },
    {
      "cell_type": "markdown",
      "id": "bcdfca04",
      "metadata": {
        "deletable": false,
        "editable": false,
        "id": "bcdfca04",
        "nbgrader": {
          "cell_type": "markdown",
          "checksum": "f73c7076172862c35c71b3a2c11ac694",
          "grade": false,
          "grade_id": "cell-b71e8d3d870f5f96",
          "locked": true,
          "schema_version": 3,
          "solution": false,
          "task": false
        }
      },
      "source": [
        "The `Bank` class represents a simplified bank entity that manages accounts.\n",
        "\n",
        "- Attributes:\n",
        "\n",
        "    - `_accounts`: A dictionary to store Account objects.\n",
        "    - `_next_account_number`: An integer representing the next available account number.\n",
        "- Methods:\n",
        "\n",
        "    - `__init__(self):`\n",
        "        - Initializes `_accounts` as an empty dictionary to store customer accounts and `_next_account_number` to create account id for each customer account starting at 0.\n",
        "    - `create_account(self, name, initial_amount, account_type='savings', **kwargs):`\n",
        "        - Parameters:\n",
        "            - `name`: The name of the account holder.\n",
        "            - `initial_amount`: The initial amount to deposit in the account.\n",
        "            - `account_type`: The type of account to create (default is 'savings').\n",
        "            - `**kwargs`: Additional keyword arguments specific to each account type (e.g., interest rate, overdraft limit).\n",
        "        - Creates a new account and adds it to the bank's accounts.\n",
        "        - Returns the new account number.\n",
        "    - `all_add_interest(self):`\n",
        "        - Calculates interest for each account and deposits it into its corresponding account.\n",
        "    - `all_show(self):`\n",
        "        - Prints details i.e. account number, account holder's name, and balance for each account."
      ]
    },
    {
      "cell_type": "markdown",
      "id": "ca7b345a",
      "metadata": {
        "deletable": false,
        "editable": false,
        "id": "ca7b345a",
        "nbgrader": {
          "cell_type": "markdown",
          "checksum": "0fb8d11b16eeef58f4be27257c90d109",
          "grade": false,
          "grade_id": "cell-cbe282aad34f7bf1",
          "locked": true,
          "schema_version": 3,
          "solution": false,
          "task": false
        }
      },
      "source": [
        "**Q4:** Complete the `all_add_interest(self)` and `all_show(self)` methods in the `Bank` class."
      ]
    },
    {
      "cell_type": "code",
      "execution_count": 10,
      "id": "36f13dff",
      "metadata": {
        "deletable": false,
        "id": "36f13dff",
        "nbgrader": {
          "cell_type": "code",
          "checksum": "f58e2dde1fa9b1dba0d5d561eae7b054",
          "grade": false,
          "grade_id": "cell-76ad57504d10eb6a",
          "locked": false,
          "schema_version": 3,
          "solution": true,
          "task": false
        }
      },
      "outputs": [],
      "source": [
        "class Bank:\n",
        "    def __init__(self):\n",
        "        self._accounts = {}  # Dictionary to store Account objects\n",
        "        self._next_account_number = 0\n",
        "\n",
        "    def create_account(self, name, initial_amount, account_type='savings', **kwargs):\n",
        "        if account_type == 'savings':\n",
        "            interest_rate = kwargs.get('interest_rate', 1.5)  # Default interest rate for savings account\n",
        "            account = SavingsAccount(name, initial_amount, interest_rate)\n",
        "        elif account_type == 'checking':\n",
        "            overdraft_limit = kwargs.get('overdraft_limit', 1000)  # Default overdraft limit for checking account\n",
        "            account = CheckingAccount(name, initial_amount, overdraft_limit)\n",
        "        elif account_type == 'premium':\n",
        "            interest_rate = kwargs.get('interest_rate', 1.5)  # Default interest rate for premium account\n",
        "            overdraft_limit = kwargs.get('overdraft_limit', 1000)  # Default overdraft limit for premium account\n",
        "            account = PremiumAccount(name, initial_amount, interest_rate, overdraft_limit)\n",
        "        else:\n",
        "            raise ValueError(\"Invalid account type. Creating savings account by default.\")\n",
        "\n",
        "        new_account_number = self._next_account_number\n",
        "        self._accounts[new_account_number] = account\n",
        "        self._next_account_number += 1\n",
        "        return new_account_number\n",
        "\n",
        "    def balance(self, account_number):\n",
        "        account = self._accounts.get(account_number)\n",
        "        if account is None:\n",
        "            raise KeyError('Account not found')\n",
        "        return account.balance\n",
        "\n",
        "    def all_add_interest(self):\n",
        "        # YOUR CODE HERE\n",
        "        for account_number, account in self._accounts.items():\n",
        "            interest = account.calculate_interest()\n",
        "            account.deposit(interest)\n",
        "\n",
        "    def all_show(self):\n",
        "        display_text = ''\n",
        "        for account_number, account in self._accounts.items():\n",
        "            display_text += f' Account: {account_number}\\n{account.show()}'\n",
        "        print(display_text)\n",
        "        return display_text"
      ]
    },
    {
      "cell_type": "code",
      "execution_count": 11,
      "id": "51fc7c0f",
      "metadata": {
        "deletable": false,
        "editable": false,
        "id": "51fc7c0f",
        "nbgrader": {
          "cell_type": "code",
          "checksum": "864753793060ab557654dd641e98a16a",
          "grade": true,
          "grade_id": "cell-c719044d86f938ee",
          "locked": true,
          "points": 1,
          "schema_version": 3,
          "solution": false,
          "task": false
        }
      },
      "outputs": [
        {
          "name": "stdout",
          "output_type": "stream",
          "text": [
            " Account: 0\n",
            " Name: Mary\n",
            " Balance: 12591.9\n",
            " Account: 1\n",
            " Name: Bob\n",
            " Balance: 5000\n",
            " Overdraft: 0\n",
            " Account: 2\n",
            " Name: Ann\n",
            " Balance: 1020600.0\n",
            "\n",
            "All test cases passed!\n"
          ]
        }
      ],
      "source": [
        "def test_bank():\n",
        "    # Initialize a Bank object\n",
        "    oBank = Bank()\n",
        "\n",
        "    # Create various accounts\n",
        "    marys_account_number = oBank.create_account('Mary', 12345, account_type='savings', interest_rate=2.0)\n",
        "    bobs_account_number = oBank.create_account('Bob', 5000, account_type='checking', overdraft_limit=1000)\n",
        "    anns_account_number = oBank.create_account('Ann', 20000, account_type='premium', interest_rate=3.0, overdraft_limit=5000)\n",
        "\n",
        "    # Add interest to all accounts\n",
        "    oBank.all_add_interest()\n",
        "    assert oBank.balance(marys_account_number) == 12591.9\n",
        "    assert oBank.balance(bobs_account_number) == 5000\n",
        "    assert oBank.balance(anns_account_number) == 1020600.0\n",
        "\n",
        "    # Show all accounts\n",
        "    assert oBank.all_show() == \" Account: 0\\n Name: Mary\\n Balance: 12591.9\\n Account: 1\\n Name: Bob\\n Balance: 5000\\n Overdraft: 0\\n Account: 2\\n Name: Ann\\n Balance: 1020600.0\\n\"\n",
        "\n",
        "    print(\"All test cases passed!\")\n",
        "\n",
        "test_bank()\n"
      ]
    }
  ],
  "metadata": {
    "colab": {
      "provenance": []
    },
    "kernelspec": {
      "display_name": "Python 3 (ipykernel)",
      "language": "python",
      "name": "python3"
    },
    "language_info": {
      "codemirror_mode": {
        "name": "ipython",
        "version": 3
      },
      "file_extension": ".py",
      "mimetype": "text/x-python",
      "name": "python",
      "nbconvert_exporter": "python",
      "pygments_lexer": "ipython3",
      "version": "3.9.12"
    }
  },
  "nbformat": 4,
  "nbformat_minor": 5
}
