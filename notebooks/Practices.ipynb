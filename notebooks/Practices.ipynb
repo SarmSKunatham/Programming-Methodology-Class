{
 "cells": [
  {
   "cell_type": "markdown",
   "id": "cb41f5c3",
   "metadata": {},
   "source": [
    "**Listing 5-1**: template for pygame"
   ]
  },
  {
   "cell_type": "code",
   "execution_count": 5,
   "id": "1d76fb6d",
   "metadata": {},
   "outputs": [
    {
     "ename": "KeyboardInterrupt",
     "evalue": "",
     "output_type": "error",
     "traceback": [
      "\u001b[0;31m---------------------------------------------------------------------------\u001b[0m",
      "\u001b[0;31mKeyboardInterrupt\u001b[0m                         Traceback (most recent call last)",
      "Input \u001b[0;32mIn [5]\u001b[0m, in \u001b[0;36m<cell line: 18>\u001b[0;34m()\u001b[0m\n\u001b[1;32m     23\u001b[0m window\u001b[38;5;241m.\u001b[39mfill(BLACK)\n\u001b[1;32m     25\u001b[0m pygame\u001b[38;5;241m.\u001b[39mdisplay\u001b[38;5;241m.\u001b[39mupdate()\n\u001b[0;32m---> 27\u001b[0m \u001b[43mclock\u001b[49m\u001b[38;5;241;43m.\u001b[39;49m\u001b[43mtick\u001b[49m\u001b[43m(\u001b[49m\u001b[43mFPS\u001b[49m\u001b[43m)\u001b[49m\n",
      "\u001b[0;31mKeyboardInterrupt\u001b[0m: "
     ]
    }
   ],
   "source": [
    "import pygame\n",
    "from pygame.locals import *\n",
    "import sys\n",
    "\n",
    "# Define constants\n",
    "BLACK = (0, 0, 0)\n",
    "WINDOW_WIDTH = 640\n",
    "WINDOW_HEIGHT = 480\n",
    "FPS = 30\n",
    "\n",
    "pygame.init()\n",
    "window = pygame.display.set_mode((WINDOW_WIDTH, WINDOW_HEIGHT))\n",
    "clock = pygame.time.Clock()\n",
    "\n",
    "# main\n",
    "while True:\n",
    "    # Check for events\n",
    "    for event in pygame.event.get():\n",
    "        if event.type == QUIT:\n",
    "            pygame.quit()\n",
    "            sys.exit()\n",
    "            \n",
    "    window.fill(BLACK)\n",
    "    \n",
    "    pygame.display.update()\n",
    "    \n",
    "    clock.tick(FPS)"
   ]
  },
  {
   "cell_type": "code",
   "execution_count": 10,
   "id": "1569637f",
   "metadata": {},
   "outputs": [
    {
     "name": "stdout",
     "output_type": "stream",
     "text": [
      "/Users/sarmkunatham/Desktop/1. Projects/CU/Programming-Methodology-Class/notebooks\n"
     ]
    }
   ],
   "source": [
    "from pathlib import Path\n",
    "BASE_PATH = Path('__file__').resolve().parent\n",
    "print(BASE_PATH)"
   ]
  },
  {
   "cell_type": "markdown",
   "id": "f27c3da6",
   "metadata": {},
   "source": [
    "**Listing 5-2:** Load one image and draw it every frame"
   ]
  },
  {
   "cell_type": "code",
   "execution_count": 11,
   "id": "9d732827",
   "metadata": {},
   "outputs": [
    {
     "ename": "SystemExit",
     "evalue": "",
     "output_type": "error",
     "traceback": [
      "An exception has occurred, use %tb to see the full traceback.\n",
      "\u001b[0;31mSystemExit\u001b[0m\n"
     ]
    },
    {
     "name": "stderr",
     "output_type": "stream",
     "text": [
      "/opt/homebrew/anaconda3/lib/python3.9/site-packages/IPython/core/interactiveshell.py:3405: UserWarning: To exit: use 'exit', 'quit', or Ctrl-D.\n",
      "  warn(\"To exit: use 'exit', 'quit', or Ctrl-D.\", stacklevel=1)\n"
     ]
    }
   ],
   "source": [
    "import pygame\n",
    "from pygame.locals import *\n",
    "import sys\n",
    "\n",
    "# Define constants\n",
    "BLACK = (0, 0, 0)\n",
    "WINDOW_WIDTH = 640\n",
    "WINDOW_HEIGHT = 480\n",
    "FPS = 30\n",
    "\n",
    "pygame.init()\n",
    "window = pygame.display.set_mode((WINDOW_WIDTH, WINDOW_HEIGHT))\n",
    "clock = pygame.time.Clock()\n",
    "\n",
    "# Load image\n",
    "image = pygame.image.load('cat.png')\n",
    "\n",
    "# main\n",
    "while True:\n",
    "    # Check for events\n",
    "    for event in pygame.event.get():\n",
    "        if event.type == QUIT:\n",
    "            pygame.quit()\n",
    "            sys.exit()\n",
    "            \n",
    "    window.fill(BLACK)\n",
    "    \n",
    "    window.blit(image, (100, 200))\n",
    "    \n",
    "    pygame.display.update()\n",
    "    \n",
    "    clock.tick(FPS)"
   ]
  },
  {
   "cell_type": "markdown",
   "id": "4481adcb",
   "metadata": {},
   "source": [
    "**Listing 5-3:** Detecting a mouse click and acting on it"
   ]
  },
  {
   "cell_type": "code",
   "execution_count": 16,
   "id": "01231eaf",
   "metadata": {},
   "outputs": [
    {
     "ename": "SystemExit",
     "evalue": "",
     "output_type": "error",
     "traceback": [
      "An exception has occurred, use %tb to see the full traceback.\n",
      "\u001b[0;31mSystemExit\u001b[0m\n"
     ]
    },
    {
     "name": "stderr",
     "output_type": "stream",
     "text": [
      "/opt/homebrew/anaconda3/lib/python3.9/site-packages/IPython/core/interactiveshell.py:3405: UserWarning: To exit: use 'exit', 'quit', or Ctrl-D.\n",
      "  warn(\"To exit: use 'exit', 'quit', or Ctrl-D.\", stacklevel=1)\n"
     ]
    }
   ],
   "source": [
    "import pygame\n",
    "from pygame.locals import *\n",
    "import sys\n",
    "import random\n",
    "\n",
    "# Define constants\n",
    "BLACK = (0, 0, 0)\n",
    "WINDOW_WIDTH = 640\n",
    "WINDOW_HEIGHT = 480\n",
    "FPS = 30\n",
    "BALL_WIDTH_HEIGHT = 100\n",
    "MAX_WIDTH = WINDOW_WIDTH - BALL_WIDTH_HEIGHT\n",
    "MAX_HEIGHT = WINDOW_HEIGHT - BALL_WIDTH_HEIGHT\n",
    "\n",
    "pygame.init()\n",
    "window = pygame.display.set_mode((WINDOW_WIDTH, WINDOW_HEIGHT))\n",
    "pygame.display.set_caption('Listing 5-3')\n",
    "clock = pygame.time.Clock()\n",
    "\n",
    "ballImg = pygame.image.load('ball.png')\n",
    "\n",
    "# Initialize localize variables\n",
    "ballX = random.randrange(MAX_WIDTH)\n",
    "ballY = random.randrange(MAX_HEIGHT)\n",
    "ballRect = pygame.Rect(ballX, ballY, BALL_WIDTH_HEIGHT, BALL_WIDTH_HEIGHT)\n",
    "\n",
    "# main\n",
    "while True:\n",
    "    # events\n",
    "    for event in pygame.event.get():\n",
    "        if event.type == QUIT:\n",
    "            pygame.quit()\n",
    "            sys.exit()\n",
    "            \n",
    "        if event.type == MOUSEBUTTONDOWN:\n",
    "            if ballRect.collidepoint(event.pos):\n",
    "                ballX = random.randrange(MAX_WIDTH)\n",
    "                ballY = random.randrange(MAX_HEIGHT)\n",
    "                ballRect = pygame.Rect(ballX, ballY, BALL_WIDTH_HEIGHT, BALL_WIDTH_HEIGHT)\n",
    "        \n",
    "    window.fill(BLACK)\n",
    "    \n",
    "    window.blit(ballImg, (ballX, ballY))\n",
    "    \n",
    "    pygame.display.update()\n",
    "    \n",
    "    clock.tick(FPS)"
   ]
  },
  {
   "cell_type": "markdown",
   "id": "4cc6ca71",
   "metadata": {},
   "source": [
    "**Listing 5-4** handling single press keyboard"
   ]
  },
  {
   "cell_type": "code",
   "execution_count": 20,
   "id": "4d8fdc8e",
   "metadata": {},
   "outputs": [
    {
     "name": "stdout",
     "output_type": "stream",
     "text": [
      "Ball reaches target!!!\n"
     ]
    },
    {
     "ename": "SystemExit",
     "evalue": "",
     "output_type": "error",
     "traceback": [
      "An exception has occurred, use %tb to see the full traceback.\n",
      "\u001b[0;31mSystemExit\u001b[0m\n"
     ]
    }
   ],
   "source": [
    "import pygame\n",
    "from pygame.locals import *\n",
    "import sys\n",
    "import random\n",
    "\n",
    "# Define constants\n",
    "BLACK = (0, 0, 0)\n",
    "WINDOW_WIDTH = 640\n",
    "WINDOW_HEIGHT = 480\n",
    "FPS = 30\n",
    "BALL_WIDTH_HEIGHT = 100\n",
    "MAX_WIDTH = WINDOW_WIDTH - BALL_WIDTH_HEIGHT\n",
    "MAX_HEIGHT = WINDOW_HEIGHT - BALL_WIDTH_HEIGHT\n",
    "TARGET_X = 400\n",
    "TARGET_Y = 320\n",
    "TARGET_WIDTH_HEIGHT = 120\n",
    "N_PIXELS_TO_MOVE = 10\n",
    "\n",
    "pygame.init()\n",
    "window = pygame.display.set_mode((WINDOW_WIDTH, WINDOW_HEIGHT))\n",
    "pygame.display.set_caption('listing 5-4')\n",
    "clock = pygame.time.Clock()\n",
    "\n",
    "ballImg = pygame.image.load('ball.png')\n",
    "targetImg = pygame.image.load('target.jpg')\n",
    "\n",
    "# initialize localize variables\n",
    "ballX = random.randrange(MAX_WIDTH)\n",
    "ballY = random.randrange(MAX_HEIGHT)\n",
    "targetRect = pygame.Rect(TARGET_X, TARGET_Y, TARGET_WIDTH_HEIGHT, TARGET_WIDTH_HEIGHT)\n",
    "\n",
    "# main\n",
    "while True:\n",
    "    # check events:\n",
    "    for event in pygame.event.get():\n",
    "        if event.type == QUIT:\n",
    "            pygame.quit()\n",
    "            sys.exit()\n",
    "        elif event.type == KEYDOWN:\n",
    "            if event.key == K_LEFT:\n",
    "                ballX -= N_PIXELS_TO_MOVE\n",
    "            elif event.key == K_RIGHT:\n",
    "                ballX += N_PIXELS_TO_MOVE\n",
    "            elif event.key == K_DOWN:\n",
    "                ballY += N_PIXELS_TO_MOVE\n",
    "            elif event.key == K_UP:\n",
    "                ballY -= N_PIXELS_TO_MOVE\n",
    "    \n",
    "    # Check if ball reach the target\n",
    "    ballRect = pygame.Rect(ballX, ballY, BALL_WIDTH_HEIGHT, BALL_WIDTH_HEIGHT)\n",
    "    if ballRect.colliderect(targetRect):\n",
    "        print('Ball reaches target!!!')\n",
    "        pygame.quit()\n",
    "        sys.exit()\n",
    "    \n",
    "    window.fill(BLACK)\n",
    "    \n",
    "    window.blit(targetImg, (TARGET_X, TARGET_Y))\n",
    "    window.blit(ballImg, (ballX, ballY))\n",
    "    \n",
    "    pygame.display.update()\n",
    "    clock.tick(FPS)\n",
    "    \n",
    "            "
   ]
  },
  {
   "cell_type": "markdown",
   "id": "a2b80a74",
   "metadata": {},
   "source": [
    "**Listing 5-5**: handling multiple keys pressing at the same time"
   ]
  },
  {
   "cell_type": "code",
   "execution_count": 23,
   "id": "5616eed5",
   "metadata": {},
   "outputs": [
    {
     "name": "stdout",
     "output_type": "stream",
     "text": [
      "Ball reaches target!!!\n",
      "Ball reaches target!!!\n",
      "Ball reaches target!!!\n",
      "Ball reaches target!!!\n",
      "Ball reaches target!!!\n",
      "Ball reaches target!!!\n",
      "Ball reaches target!!!\n",
      "Ball reaches target!!!\n",
      "Ball reaches target!!!\n",
      "Ball reaches target!!!\n",
      "Ball reaches target!!!\n",
      "Ball reaches target!!!\n",
      "Ball reaches target!!!\n",
      "Ball reaches target!!!\n",
      "Ball reaches target!!!\n",
      "Ball reaches target!!!\n",
      "Ball reaches target!!!\n",
      "Ball reaches target!!!\n",
      "Ball reaches target!!!\n",
      "Ball reaches target!!!\n",
      "Ball reaches target!!!\n",
      "Ball reaches target!!!\n",
      "Ball reaches target!!!\n",
      "Ball reaches target!!!\n",
      "Ball reaches target!!!\n",
      "Ball reaches target!!!\n",
      "Ball reaches target!!!\n",
      "Ball reaches target!!!\n",
      "Ball reaches target!!!\n",
      "Ball reaches target!!!\n",
      "Ball reaches target!!!\n",
      "Ball reaches target!!!\n",
      "Ball reaches target!!!\n",
      "Ball reaches target!!!\n",
      "Ball reaches target!!!\n",
      "Ball reaches target!!!\n",
      "Ball reaches target!!!\n",
      "Ball reaches target!!!\n",
      "Ball reaches target!!!\n",
      "Ball reaches target!!!\n",
      "Ball reaches target!!!\n",
      "Ball reaches target!!!\n",
      "Ball reaches target!!!\n",
      "Ball reaches target!!!\n",
      "Ball reaches target!!!\n",
      "Ball reaches target!!!\n",
      "Ball reaches target!!!\n",
      "Ball reaches target!!!\n",
      "Ball reaches target!!!\n",
      "Ball reaches target!!!\n",
      "Ball reaches target!!!\n",
      "Ball reaches target!!!\n",
      "Ball reaches target!!!\n",
      "Ball reaches target!!!\n",
      "Ball reaches target!!!\n",
      "Ball reaches target!!!\n",
      "Ball reaches target!!!\n",
      "Ball reaches target!!!\n",
      "Ball reaches target!!!\n",
      "Ball reaches target!!!\n",
      "Ball reaches target!!!\n",
      "Ball reaches target!!!\n",
      "Ball reaches target!!!\n",
      "Ball reaches target!!!\n",
      "Ball reaches target!!!\n",
      "Ball reaches target!!!\n",
      "Ball reaches target!!!\n",
      "Ball reaches target!!!\n",
      "Ball reaches target!!!\n",
      "Ball reaches target!!!\n",
      "Ball reaches target!!!\n",
      "Ball reaches target!!!\n",
      "Ball reaches target!!!\n",
      "Ball reaches target!!!\n",
      "Ball reaches target!!!\n",
      "Ball reaches target!!!\n",
      "Ball reaches target!!!\n",
      "Ball reaches target!!!\n",
      "Ball reaches target!!!\n",
      "Ball reaches target!!!\n",
      "Ball reaches target!!!\n",
      "Ball reaches target!!!\n",
      "Ball reaches target!!!\n",
      "Ball reaches target!!!\n",
      "Ball reaches target!!!\n",
      "Ball reaches target!!!\n",
      "Ball reaches target!!!\n",
      "Ball reaches target!!!\n",
      "Ball reaches target!!!\n",
      "Ball reaches target!!!\n",
      "Ball reaches target!!!\n",
      "Ball reaches target!!!\n",
      "Ball reaches target!!!\n",
      "Ball reaches target!!!\n",
      "Ball reaches target!!!\n",
      "Ball reaches target!!!\n",
      "Ball reaches target!!!\n",
      "Ball reaches target!!!\n",
      "Ball reaches target!!!\n",
      "Ball reaches target!!!\n",
      "Ball reaches target!!!\n",
      "Ball reaches target!!!\n",
      "Ball reaches target!!!\n",
      "Ball reaches target!!!\n",
      "Ball reaches target!!!\n",
      "Ball reaches target!!!\n",
      "Ball reaches target!!!\n",
      "Ball reaches target!!!\n",
      "Ball reaches target!!!\n",
      "Ball reaches target!!!\n",
      "Ball reaches target!!!\n",
      "Ball reaches target!!!\n"
     ]
    },
    {
     "ename": "SystemExit",
     "evalue": "",
     "output_type": "error",
     "traceback": [
      "An exception has occurred, use %tb to see the full traceback.\n",
      "\u001b[0;31mSystemExit\u001b[0m\n"
     ]
    }
   ],
   "source": [
    "import pygame\n",
    "from pygame.locals import *\n",
    "import sys\n",
    "import random\n",
    "\n",
    "# Define constants\n",
    "BLACK = (0, 0, 0)\n",
    "WINDOW_WIDTH = 640\n",
    "WINDOW_HEIGHT = 480\n",
    "FPS = 30\n",
    "BALL_WIDTH_HEIGHT = 100\n",
    "MAX_WIDTH = WINDOW_WIDTH - BALL_WIDTH_HEIGHT\n",
    "MAX_HEIGHT = WINDOW_HEIGHT - BALL_WIDTH_HEIGHT\n",
    "TARGET_X = 400\n",
    "TARGET_Y = 320\n",
    "TARGET_WIDTH_HEIGHT = 120\n",
    "N_PIXELS_TO_MOVE = 10\n",
    "\n",
    "pygame.init()\n",
    "window = pygame.display.set_mode((WINDOW_WIDTH, WINDOW_HEIGHT))\n",
    "pygame.display.set_caption('listing 5-5')\n",
    "clock = pygame.time.Clock()\n",
    "\n",
    "ballImg = pygame.image.load('ball.png')\n",
    "targetImg = pygame.image.load('target.jpg')\n",
    "\n",
    "# initialize localize variables\n",
    "ballX = random.randrange(MAX_WIDTH)\n",
    "ballY = random.randrange(MAX_HEIGHT)\n",
    "targetRect = pygame.Rect(TARGET_X, TARGET_Y, TARGET_WIDTH_HEIGHT, TARGET_WIDTH_HEIGHT)\n",
    "\n",
    "# main\n",
    "while True:\n",
    "    for event in pygame.event.get():\n",
    "        if event.type == QUIT:\n",
    "            pygame.quit()\n",
    "            sys.exit()\n",
    "        key_pressed_tuples = pygame.key.get_pressed()\n",
    "        if key_pressed_tuples[K_LEFT]:\n",
    "            ballX -= N_PIXELS_TO_MOVE\n",
    "        if key_pressed_tuples[K_RIGHT]:\n",
    "            ballX += N_PIXELS_TO_MOVE\n",
    "        if key_pressed_tuples[K_DOWN]:\n",
    "            ballY += N_PIXELS_TO_MOVE\n",
    "        if key_pressed_tuples[K_UP]:\n",
    "            ballY -= N_PIXELS_TO_MOVE\n",
    "    \n",
    "    ballRect = pygame.Rect(ballX, ballY, BALL_WIDTH_HEIGHT, BALL_WIDTH_HEIGHT)\n",
    "    if ballRect.colliderect(targetRect):\n",
    "        print('Ball reaches target!!!')\n",
    "    \n",
    "    window.fill(BLACK)\n",
    "    \n",
    "    window.blit(targetImg, (TARGET_X, TARGET_Y))\n",
    "    window.blit(ballImg, (ballX, ballY))\n",
    "    \n",
    "    pygame.display.update()\n",
    "    \n",
    "    clock.tick(FPS)"
   ]
  },
  {
   "cell_type": "markdown",
   "id": "fdd8815e",
   "metadata": {},
   "source": [
    "**Listing 5-6:** A location-based animation, bouncing a ball around the window"
   ]
  },
  {
   "cell_type": "code",
   "execution_count": 25,
   "id": "b3db6f8f",
   "metadata": {},
   "outputs": [
    {
     "ename": "SystemExit",
     "evalue": "",
     "output_type": "error",
     "traceback": [
      "An exception has occurred, use %tb to see the full traceback.\n",
      "\u001b[0;31mSystemExit\u001b[0m\n"
     ]
    }
   ],
   "source": [
    "import pygame\n",
    "from pygame.locals import *\n",
    "import sys\n",
    "import random\n",
    "\n",
    "# Define constants\n",
    "BLACK = (0, 0, 0)\n",
    "WINDOW_WIDTH = 640\n",
    "WINDOW_HEIGHT = 480\n",
    "FPS = 30\n",
    "BALL_WIDTH_HEIGHT = 100\n",
    "MAX_WIDTH = WINDOW_WIDTH - BALL_WIDTH_HEIGHT\n",
    "MAX_HEIGHT = WINDOW_HEIGHT - BALL_WIDTH_HEIGHT\n",
    "xSpeed = 10\n",
    "ySpeed = 10\n",
    "\n",
    "pygame.init()\n",
    "window = pygame.display.set_mode((WINDOW_WIDTH, WINDOW_HEIGHT))\n",
    "pygame.display.set_caption('listing 5-6')\n",
    "clock = pygame.time.Clock()\n",
    "\n",
    "ballImg = pygame.image.load('ball.png')\n",
    "\n",
    "# initialize localize variables\n",
    "ballX = random.randrange(MAX_WIDTH)\n",
    "ballY = random.randrange(MAX_HEIGHT)\n",
    "\n",
    "# main\n",
    "while True:\n",
    "    for event in pygame.event.get():\n",
    "        if event.type == QUIT:\n",
    "            pygame.quit()\n",
    "            sys.exit()\n",
    "    if ballX < 0 or ballX > MAX_WIDTH:\n",
    "        xSpeed = -xSpeed\n",
    "    if ballY < 0 or ballY > MAX_HEIGHT:\n",
    "        ySpeed = -ySpeed\n",
    "    \n",
    "    ballX += xSpeed\n",
    "    ballY += ySpeed\n",
    "    \n",
    "    window.fill(BLACK)\n",
    "    \n",
    "    window.blit(ballImg, (ballX, ballY))\n",
    "    \n",
    "    pygame.display.update()\n",
    "    \n",
    "    clock.tick(FPS)"
   ]
  },
  {
   "cell_type": "markdown",
   "id": "d9ca5962",
   "metadata": {},
   "source": [
    "**Listing 6-1:** The ball class"
   ]
  },
  {
   "cell_type": "code",
   "execution_count": 27,
   "id": "3ab09e27",
   "metadata": {},
   "outputs": [],
   "source": [
    "import pygame\n",
    "from pygame.locals import *\n",
    "import sys\n",
    "import random"
   ]
  },
  {
   "cell_type": "code",
   "execution_count": 29,
   "id": "996e427b",
   "metadata": {},
   "outputs": [],
   "source": [
    "class Ball:\n",
    "    def __init__(self, window, windowWidth, windowHeight):\n",
    "        self.window = window\n",
    "        self.windowWidth = windowWidth\n",
    "        self.windowHeight = windowHeight\n",
    "        self.image = pygame.image.load('ball.png')\n",
    "        ballRect = self.image.get_rect()\n",
    "        self.width = ballRect.width\n",
    "        self.height = ballRect.height\n",
    "        self.maxWidth = self.windowWidth - self.width\n",
    "        self.maxHeight =self.windowHeight - self.height\n",
    "        self.x = random.randrange(0, self.maxWidth)\n",
    "        self.y = random.randrange(0, self.maxHeight)\n",
    "        speedList = [-4, -3, -2, -1, 1, 2, 3, 4]\n",
    "        self.xSpeed = random.choice(speedList)\n",
    "        self.ySpeed = random.choice(speedList)\n",
    "        \n",
    "    def update(self):\n",
    "        # if the ball react boundary changes the direction\n",
    "        if self.x < 0 or self.x > self.maxWidth:\n",
    "            self.xSpeed = -self.xSpeed\n",
    "        if self.y < 0 or self.y > self.maxHeight:\n",
    "            self.ySpeed = -self.ySpeed\n",
    "        \n",
    "        # Update position\n",
    "        self.x += self.xSpeed\n",
    "        self.y += self.ySpeed\n",
    "    \n",
    "    def draw(self):\n",
    "        self.window.blit(self.image, (self.x, self.y))\n",
    "        "
   ]
  },
  {
   "cell_type": "markdown",
   "id": "d5fde6d7",
   "metadata": {},
   "source": [
    "**Listing 6-2:** using the ball class"
   ]
  },
  {
   "cell_type": "code",
   "execution_count": 31,
   "id": "c4971cb2",
   "metadata": {},
   "outputs": [
    {
     "ename": "SystemExit",
     "evalue": "",
     "output_type": "error",
     "traceback": [
      "An exception has occurred, use %tb to see the full traceback.\n",
      "\u001b[0;31mSystemExit\u001b[0m\n"
     ]
    }
   ],
   "source": [
    "WINDOW_WIDTH = 1080\n",
    "WINDOW_HEIGHT = 720\n",
    "\n",
    "pygame.init()\n",
    "window = pygame.display.set_mode((WINDOW_WIDTH, WINDOW_HEIGHT))\n",
    "pygame.display.set_caption('listing 6-2')\n",
    "clock = pygame.time.Clock()\n",
    "oBall = Ball(window, WINDOW_WIDTH, WINDOW_HEIGHT)\n",
    "\n",
    "# main\n",
    "while True:\n",
    "    for event in pygame.event.get():\n",
    "        if event.type == QUIT:\n",
    "            pygame.quit()\n",
    "            sys.exit()\n",
    "            \n",
    "    oBall.update()\n",
    "    window.fill((255, 255, 255))\n",
    "    oBall.draw()\n",
    "    \n",
    "    pygame.display.update()\n",
    "    clock.tick(30)"
   ]
  },
  {
   "cell_type": "markdown",
   "id": "ddf8e272",
   "metadata": {},
   "source": [
    "**Listing 6-3:** multiple balls"
   ]
  },
  {
   "cell_type": "code",
   "execution_count": 32,
   "id": "5fd26b28",
   "metadata": {},
   "outputs": [
    {
     "ename": "SystemExit",
     "evalue": "",
     "output_type": "error",
     "traceback": [
      "An exception has occurred, use %tb to see the full traceback.\n",
      "\u001b[0;31mSystemExit\u001b[0m\n"
     ]
    },
    {
     "name": "stderr",
     "output_type": "stream",
     "text": [
      "/opt/homebrew/anaconda3/lib/python3.9/site-packages/IPython/core/interactiveshell.py:3405: UserWarning: To exit: use 'exit', 'quit', or Ctrl-D.\n",
      "  warn(\"To exit: use 'exit', 'quit', or Ctrl-D.\", stacklevel=1)\n"
     ]
    }
   ],
   "source": [
    "WINDOW_WIDTH = 1080\n",
    "WINDOW_HEIGHT = 720\n",
    "N_BALLS = 3\n",
    "\n",
    "pygame.init()\n",
    "window = pygame.display.set_mode((WINDOW_WIDTH, WINDOW_HEIGHT))\n",
    "pygame.display.set_caption('listing 6-2')\n",
    "clock = pygame.time.Clock()\n",
    "ball_list = []\n",
    "for i in range(N_BALLS):\n",
    "    oBall = Ball(window, WINDOW_WIDTH, WINDOW_HEIGHT)\n",
    "    ball_list.append(oBall)\n",
    "\n",
    "# main\n",
    "while True:\n",
    "    for event in pygame.event.get():\n",
    "        if event.type == QUIT:\n",
    "            pygame.quit()\n",
    "            sys.exit()\n",
    "            \n",
    "    for oBall in ball_list:\n",
    "        oBall.update()\n",
    "    window.fill((255, 255, 255))\n",
    "    for oBall in ball_list:\n",
    "        oBall.draw()\n",
    "    \n",
    "    pygame.display.update()\n",
    "    clock.tick(30)"
   ]
  },
  {
   "cell_type": "code",
   "execution_count": null,
   "id": "1954eaa1",
   "metadata": {},
   "outputs": [],
   "source": []
  }
 ],
 "metadata": {
  "kernelspec": {
   "display_name": "Python 3 (ipykernel)",
   "language": "python",
   "name": "python3"
  },
  "language_info": {
   "codemirror_mode": {
    "name": "ipython",
    "version": 3
   },
   "file_extension": ".py",
   "mimetype": "text/x-python",
   "name": "python",
   "nbconvert_exporter": "python",
   "pygments_lexer": "ipython3",
   "version": "3.9.12"
  }
 },
 "nbformat": 4,
 "nbformat_minor": 5
}
