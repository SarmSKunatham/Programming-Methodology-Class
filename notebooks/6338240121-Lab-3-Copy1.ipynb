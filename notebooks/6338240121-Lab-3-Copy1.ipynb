{
 "cells": [
  {
   "cell_type": "markdown",
   "id": "ce740d82",
   "metadata": {
    "deletable": false,
    "editable": false,
    "nbgrader": {
     "cell_type": "markdown",
     "checksum": "cb5267669cdd2782c99ba9520617a38d",
     "grade": false,
     "grade_id": "cell-07d180a684d88df5",
     "locked": true,
     "schema_version": 3,
     "solution": false,
     "task": false
    }
   },
   "source": [
    "**Q1:** Create a Rectangle class that can calculate the area and perimeter of the shape to ensure the program passes the tests below."
   ]
  },
  {
   "cell_type": "code",
   "execution_count": 12,
   "id": "d9901e09",
   "metadata": {
    "deletable": false,
    "nbgrader": {
     "cell_type": "code",
     "checksum": "eb0d3ce53f6a0c549da8cb263a730345",
     "grade": false,
     "grade_id": "cell-983997ad6af236c9",
     "locked": false,
     "schema_version": 3,
     "solution": true,
     "task": false
    }
   },
   "outputs": [],
   "source": [
    "class Rectangle:\n",
    "    def __init__(self, length, width):\n",
    "        self.length = length\n",
    "        self.width = width\n",
    "    \n",
    "    def calculate_area(self):\n",
    "        return self.length * self.width\n",
    "    \n",
    "    def calculate_perimeter(self):\n",
    "        return 2 * (self.length + self.width)"
   ]
  },
  {
   "cell_type": "code",
   "execution_count": 13,
   "id": "6badec79",
   "metadata": {},
   "outputs": [
    {
     "name": "stdout",
     "output_type": "stream",
     "text": [
      "ok\n"
     ]
    }
   ],
   "source": [
    "assert Rectangle(2,3).length == 2\n",
    "assert Rectangle(2,3).width == 3\n",
    "assert Rectangle(2,3).calculate_area() == 6\n",
    "assert Rectangle(3,4).calculate_area() == 12\n",
    "assert Rectangle(2,3).calculate_perimeter() == 10\n",
    "assert Rectangle(3,4).calculate_perimeter() == 14\n",
    "print('ok')"
   ]
  },
  {
   "cell_type": "code",
   "execution_count": 14,
   "id": "5a07ac65",
   "metadata": {
    "deletable": false,
    "editable": false,
    "nbgrader": {
     "cell_type": "code",
     "checksum": "6d064806df189abbeaabf45a0633400a",
     "grade": true,
     "grade_id": "cell-239c3cd31216c376",
     "locked": true,
     "points": 0,
     "schema_version": 3,
     "solution": false,
     "task": false
    }
   },
   "outputs": [],
   "source": [
    "assert Rectangle(2,3).length == 2\n",
    "assert Rectangle(2,3).width == 3\n",
    "assert Rectangle(2,3).calculate_area() == 6\n",
    "assert Rectangle(3,4).calculate_area() == 12\n",
    "assert Rectangle(2,3).calculate_perimeter() == 10\n",
    "assert Rectangle(3,4).calculate_perimeter() == 14"
   ]
  },
  {
   "cell_type": "markdown",
   "id": "c574d825",
   "metadata": {
    "deletable": false,
    "editable": false,
    "nbgrader": {
     "cell_type": "markdown",
     "checksum": "90dc8162cadac5c6f3a22f4404ec7f3c",
     "grade": false,
     "grade_id": "cell-a7390a383ef31278",
     "locked": true,
     "schema_version": 3,
     "solution": false,
     "task": false
    }
   },
   "source": [
    "**Q2:** Create the following methods in the provided section of the ShoppingCart class to ensure the program works correctly according to various test cases:\n",
    "\n",
    "- `add_item(item_name: str, qty: int)`: Adds a specified quantity (qty) of an item (item_name) to the shopping cart.\n",
    "- `remove_item(item_name: str, qty: int)`: Removes a specified quantity (qty) of an item (item_name) from the shopping cart. If the quantity of an item becomes 0 or negative, remove the item from the cart.\n",
    "- `get_total_qty()`: Calculates the total quantity of items in the shopping cart."
   ]
  },
  {
   "cell_type": "code",
   "execution_count": 15,
   "id": "21ba573e",
   "metadata": {
    "deletable": false,
    "nbgrader": {
     "cell_type": "code",
     "checksum": "f29b621d7c0b1126e0093c2d73efb39a",
     "grade": false,
     "grade_id": "cell-743ad1759a25cd22",
     "locked": false,
     "schema_version": 3,
     "solution": true,
     "task": false
    }
   },
   "outputs": [],
   "source": [
    "class ShoppingCart:\n",
    "    def __init__(self):\n",
    "        self.cart = {}\n",
    "        \n",
    "    def add_item(self, item_name, qty):\n",
    "        if item_name not in self.cart:\n",
    "            self.cart[item_name] = qty\n",
    "        else:\n",
    "            self.cart[item_name] += qty\n",
    "    \n",
    "    def remove_item(self, item_name, qty):\n",
    "        try:\n",
    "            if self.cart[item_name] <= qty:\n",
    "                self.cart.pop(item_name)\n",
    "            else:\n",
    "                self.cart[item_name] -= qty\n",
    "        except:\n",
    "            print(f'There is no {item_name} in the cart!!!')\n",
    "    \n",
    "    def get_total_qty(self):\n",
    "        total_qty = 0\n",
    "        for value in self.cart.values():\n",
    "            total_qty += value\n",
    "        return total_qty"
   ]
  },
  {
   "cell_type": "code",
   "execution_count": 8,
   "id": "9bdd269f",
   "metadata": {
    "deletable": false,
    "editable": false,
    "nbgrader": {
     "cell_type": "code",
     "checksum": "63933f5e020140909411af781b80c7b0",
     "grade": true,
     "grade_id": "cell-b1626d544a63028d",
     "locked": true,
     "points": 0,
     "schema_version": 3,
     "solution": false,
     "task": false
    }
   },
   "outputs": [],
   "source": [
    "# Test cases\n",
    "mycart = ShoppingCart()\n",
    "\n",
    "mycart.add_item(\"Papaya\", 100)\n",
    "mycart.add_item(\"Guava\", 200)\n",
    "mycart.add_item(\"Orange\", 150)\n",
    "\n",
    "assert len(mycart.cart) == 3\n",
    "assert mycart.cart['Papaya'] == 100\n",
    "assert mycart.cart['Guava'] == 200\n",
    "assert mycart.cart['Orange'] == 150\n",
    "\n",
    "assert mycart.get_total_qty() == 450"
   ]
  },
  {
   "cell_type": "code",
   "execution_count": 10,
   "id": "bc814cbd",
   "metadata": {},
   "outputs": [
    {
     "name": "stdout",
     "output_type": "stream",
     "text": [
      "ok\n"
     ]
    }
   ],
   "source": [
    "# Test cases\n",
    "mycart = ShoppingCart()\n",
    "\n",
    "mycart.add_item(\"Papaya\", 100)\n",
    "mycart.add_item(\"Guava\", 200)\n",
    "mycart.add_item(\"Orange\", 150)\n",
    "\n",
    "assert len(mycart.cart) == 3\n",
    "assert mycart.cart['Papaya'] == 100\n",
    "assert mycart.cart['Guava'] == 200\n",
    "assert mycart.cart['Orange'] == 150\n",
    "\n",
    "assert mycart.get_total_qty() == 450\n",
    "print('ok')"
   ]
  },
  {
   "cell_type": "code",
   "execution_count": 9,
   "id": "a7e3a1af",
   "metadata": {
    "deletable": false,
    "editable": false,
    "nbgrader": {
     "cell_type": "code",
     "checksum": "7c2e8f9ce0f7847231215fb443cbce95",
     "grade": true,
     "grade_id": "cell-83ddc5017d3d3393",
     "locked": true,
     "points": 0,
     "schema_version": 3,
     "solution": false,
     "task": false
    }
   },
   "outputs": [],
   "source": [
    "# Test cases\n",
    "mycart = ShoppingCart()\n",
    "\n",
    "mycart.add_item(\"Papaya\", 100)\n",
    "mycart.add_item(\"Guava\", 200)\n",
    "mycart.add_item(\"Orange\", 150)\n",
    "\n",
    "mycart.remove_item(\"Orange\",20)\n",
    "mycart.remove_item(\"Papaya\",200)\n",
    "\n",
    "assert len(mycart.cart) == 2\n",
    "assert mycart.cart['Guava'] == 200\n",
    "assert mycart.cart['Orange'] == 130\n",
    "\n",
    "assert mycart.get_total_qty() == 330"
   ]
  },
  {
   "cell_type": "code",
   "execution_count": 11,
   "id": "a39579a7",
   "metadata": {},
   "outputs": [
    {
     "name": "stdout",
     "output_type": "stream",
     "text": [
      "ok\n"
     ]
    }
   ],
   "source": [
    "# Test cases\n",
    "mycart = ShoppingCart()\n",
    "\n",
    "mycart.add_item(\"Papaya\", 100)\n",
    "mycart.add_item(\"Guava\", 200)\n",
    "mycart.add_item(\"Orange\", 150)\n",
    "\n",
    "mycart.remove_item(\"Orange\",20)\n",
    "mycart.remove_item(\"Papaya\",200)\n",
    "\n",
    "assert len(mycart.cart) == 2\n",
    "assert mycart.cart['Guava'] == 200\n",
    "assert mycart.cart['Orange'] == 130\n",
    "\n",
    "assert mycart.get_total_qty() == 330\n",
    "print('ok')"
   ]
  },
  {
   "cell_type": "markdown",
   "id": "18c5c2a4",
   "metadata": {
    "deletable": false,
    "editable": false,
    "nbgrader": {
     "cell_type": "markdown",
     "checksum": "61f8b66c467cddc39a94b54cb8140305",
     "grade": false,
     "grade_id": "cell-b31e17d8efd20c40",
     "locked": true,
     "schema_version": 3,
     "solution": false,
     "task": false
    }
   },
   "source": [
    "**Q3:** Assume you want to develop a small banking system.\n",
    "\n",
    "Given the `Account` class, write the `Bank` class in the provided section with the following methods:\n",
    "\n",
    "- `__init__(profiles: dict)`: Constructs bank accounts based on the provided dictionary profiles. The keys of the accounts are the account names, which are keys in the profiles dictionary. The values are instances of the `Account` class with an initial balance (initial_balance) equal to the corresponding value in the profiles for that account name. \n",
    "\n",
    "For example,\n",
    "If profiles is `{'Carol': 1000, 'Marta': -100}`, then the dictionary `accounts` in the Bank class would be `{'Carol': Account object with initial_balance 1000, 'Marta': Account object with initial_balance -100}`.\n",
    "\n",
    "- `transfer(from_who: str, to_who: str, amt: float)`: Transfers money from the account named `from_who` to the account named `to_who` with the specified amount `amt`.\n",
    "\n",
    "- get_names_in_debt(self): Returns a list of names that owe money to the bank, i.e., the account balances that are negative.\n",
    "\n",
    "- `update_with_interest()`: Function for updating all accounts in the bank by calculating interest on both deposit and loan amounts.\n",
    "python\n"
   ]
  },
  {
   "cell_type": "markdown",
   "id": "4c2c35b1",
   "metadata": {
    "deletable": false,
    "editable": false,
    "nbgrader": {
     "cell_type": "code",
     "checksum": "36396dcc50e8cd8ba27aec2618b58be1",
     "grade": false,
     "grade_id": "cell-f7e9640c36b4b61b",
     "locked": true,
     "schema_version": 3,
     "solution": false,
     "task": false
    }
   },
   "source": [
    "![bank-accounts.png](attachment:bank-accounts.png)"
   ]
  },
  {
   "cell_type": "code",
   "execution_count": 16,
   "id": "cfd82bd3",
   "metadata": {
    "deletable": false,
    "editable": false,
    "nbgrader": {
     "cell_type": "code",
     "checksum": "c164102873657cd74f3a1577d5556878",
     "grade": false,
     "grade_id": "cell-61a69a93436d117e",
     "locked": true,
     "schema_version": 3,
     "solution": false,
     "task": false
    }
   },
   "outputs": [],
   "source": [
    "class Account:\n",
    "  def __init__(self, initial_balance=0):\n",
    "    self.__balance = initial_balance # private attribute starts with __\n",
    "\n",
    "  def deposit(self, amount):\n",
    "    self.__balance += amount\n",
    "\n",
    "  def withdraw(self, amount):\n",
    "    self.__balance -= amount        \n",
    "\n",
    "  def get_balance(self):\n",
    "    return self.__balance"
   ]
  },
  {
   "cell_type": "code",
   "execution_count": 28,
   "id": "2526617f",
   "metadata": {
    "deletable": false,
    "nbgrader": {
     "cell_type": "code",
     "checksum": "ed70a3adf3a6f18c31f7b23e59328554",
     "grade": false,
     "grade_id": "cell-7447a28c65bb37e1",
     "locked": false,
     "schema_version": 3,
     "solution": true,
     "task": false
    }
   },
   "outputs": [],
   "source": [
    "class Bank():\n",
    "    def __init__(self, profiles):\n",
    "        self.accounts = {}\n",
    "        if profiles is not {}:\n",
    "            for key, value in profiles.items():\n",
    "                self.accounts[key] = Account(value)\n",
    "                \n",
    "    def transfer(self, from_who, to_who, amt):\n",
    "        # Sending money\n",
    "        self.accounts[from_who].withdraw(amt)\n",
    "        # Receiveing money\n",
    "        self.accounts[to_who].deposit(amt)\n",
    "        \n",
    "    def get_names_in_debt(self):\n",
    "        debt_names = []\n",
    "        for key, account in self.accounts.items():\n",
    "            if account.get_balance() < 0:\n",
    "                debt_names.append(key)\n",
    "        return debt_names\n",
    "    \n",
    "    def update_with_interest(self, interest_rate):\n",
    "        for key, account in self.accounts.items():\n",
    "            interest = account.get_balance() * interest_rate / 100\n",
    "            account.deposit(interest)"
   ]
  },
  {
   "cell_type": "code",
   "execution_count": 29,
   "id": "503c8130",
   "metadata": {
    "deletable": false,
    "editable": false,
    "nbgrader": {
     "cell_type": "code",
     "checksum": "0e9fdb2c16350008fa31c1c7532bc192",
     "grade": true,
     "grade_id": "cell-0d272588c82ac692",
     "locked": true,
     "points": 0,
     "schema_version": 3,
     "solution": false,
     "task": false
    }
   },
   "outputs": [],
   "source": [
    "# Test cases\n",
    "csBank = Bank({'Carol':1000,'Marta':-100})\n",
    "assert csBank.accounts['Carol'].get_balance() == 1000\n",
    "assert csBank.accounts['Marta'].get_balance() == -100"
   ]
  },
  {
   "cell_type": "code",
   "execution_count": 30,
   "id": "10fccdd1",
   "metadata": {
    "deletable": false,
    "editable": false,
    "nbgrader": {
     "cell_type": "code",
     "checksum": "251aac9367c3bca355d7d309e5694c7d",
     "grade": true,
     "grade_id": "cell-c25ba2eec06a1847",
     "locked": true,
     "points": 0,
     "schema_version": 3,
     "solution": false,
     "task": false
    }
   },
   "outputs": [],
   "source": [
    "# Test cases\n",
    "csBank = Bank({'Carol':1000,'Marta':-100})\n",
    "csBank.transfer('Carol','Marta',500)\n",
    "assert csBank.accounts['Carol'].get_balance() == 500\n",
    "assert csBank.accounts['Marta'].get_balance() == 400"
   ]
  },
  {
   "cell_type": "code",
   "execution_count": 31,
   "id": "c8502c67",
   "metadata": {
    "deletable": false,
    "editable": false,
    "nbgrader": {
     "cell_type": "code",
     "checksum": "58ac8b1eda8a4dbc6e1a6e10e4105640",
     "grade": true,
     "grade_id": "cell-9996078df9df63e5",
     "locked": true,
     "points": 0,
     "schema_version": 3,
     "solution": false,
     "task": false
    }
   },
   "outputs": [],
   "source": [
    "# Test cases\n",
    "csBank = Bank({'Carol':1000,'Marta':-100})\n",
    "assert csBank.get_names_in_debt() == ['Marta']"
   ]
  },
  {
   "cell_type": "code",
   "execution_count": 32,
   "id": "88d91283",
   "metadata": {
    "deletable": false,
    "editable": false,
    "nbgrader": {
     "cell_type": "code",
     "checksum": "43e3f51c76cb979679ebcee7a2125f26",
     "grade": true,
     "grade_id": "cell-cd6214f2135d069a",
     "locked": true,
     "points": 0,
     "schema_version": 3,
     "solution": false,
     "task": false
    }
   },
   "outputs": [],
   "source": [
    "# Test cases\n",
    "csBank = Bank({'Carol':1000,'Marta':-500})\n",
    "csBank.update_with_interest(1.5)\n",
    "assert csBank.accounts['Carol'].get_balance() == 1015\n",
    "assert csBank.accounts['Marta'].get_balance() == -507.5,  csBank.accounts['Marta'].get_balance()"
   ]
  },
  {
   "cell_type": "markdown",
   "id": "cd46bfe8",
   "metadata": {
    "deletable": false,
    "editable": false,
    "nbgrader": {
     "cell_type": "markdown",
     "checksum": "6396356915056b64a531d4849935f753",
     "grade": false,
     "grade_id": "cell-5fbf10c71a4a3f78",
     "locked": true,
     "schema_version": 3,
     "solution": false,
     "task": false
    }
   },
   "source": [
    "**Q2:** Imagine you are building a simple library management system. Implement three classes: `Book`, `Author`, and `Library`.\n",
    "\n",
    "The Book class should have the following attributes:\n",
    "- `title (str)`: the title of the book\n",
    "- `isbn (str)`: the International Standard Book Number of the book\n",
    "- `author (Author)`: the author of the book (an instance of the Author class)\n",
    "- `available_copies (int)`: the number of available copies of the book\n",
    "\n",
    "It should also have the following methods:\n",
    "- `display_info()`: prints out the title, ISBN, author's name, and the number of available copies of the book.\n",
    "- `borrow_copy()`: Decreases the number of available copies by 1 when a book is borrowed. If no copies are available, print a message indicating that the book is currently unavailable.\n",
    "- `return_copy()`: Increases the number of available copies by 1 when a book is returned.\n",
    "\n",
    "\n",
    "The Author class should have the following attributes:\n",
    "- `name (str)`: the name of the author\n",
    "- `birth_year (int)`: the birth year of the author\n",
    "\n",
    "It should also have a method:\n",
    "- `display_info()`: prints out the author's name and birth year.\n",
    "\n",
    "The Library class should have the following attributes:\n",
    "- `books (list)`: a list containing instances of the Book class\n",
    "\n",
    "It should also have the following methods:\n",
    "- `add_book(book: Book)`: adds a book to the library's collection\n",
    "- `display_books()`: displays information about all the books in the library\n",
    "- `search_books_by_author(author_name: str)`: Takes an author's name as input and prints the titles of all books in the library written by that author.\n",
    "- `search_books_by_title(title: str)`: Takes a title as input and prints information about the book with that title in the library.\n",
    "- `total_available_copies()`: Calculates and returns the total number of available copies for all books in the library.\n",
    "\n",
    "Implement the classes and methods described above and create an example demonstrating the use of class composition with these classes.\n"
   ]
  },
  {
   "cell_type": "code",
   "execution_count": 70,
   "id": "6e82476f",
   "metadata": {
    "deletable": false,
    "nbgrader": {
     "cell_type": "code",
     "checksum": "d79c596c8e379a4212a5a8f42cb81e64",
     "grade": false,
     "grade_id": "cell-5dd46a2d9399a4bb",
     "locked": false,
     "schema_version": 3,
     "solution": true,
     "task": false
    }
   },
   "outputs": [],
   "source": [
    "class Book:\n",
    "    def __init__(self, title, isbn, author, available_copies):\n",
    "        self.title = title\n",
    "        self.isbn = isbn\n",
    "        self.author = author\n",
    "        self.available_copies = available_copies\n",
    "    \n",
    "    def display_info(self):\n",
    "        return f'{self.title}, {self.isbn}, {self.author.name}, {self.available_copies}'\n",
    "    \n",
    "    def borrow_copy(self):\n",
    "        if self.available_copies > 0:\n",
    "            self.available_copies -= 1\n",
    "            return 'borrowed successfully'\n",
    "        return 'currently unavailable'\n",
    "    \n",
    "    def return_copy(self):\n",
    "        self.available_copies += 1\n",
    "        return 'returned successfully!'\n",
    "\n",
    "class Author:\n",
    "    def __init__(self, name, birth_year):\n",
    "        self.name = name\n",
    "        self.birth_year = birth_year\n",
    "        \n",
    "    def display_info(self):\n",
    "        return f'Author: {self.name}, Year: {self.birth_year}'\n",
    "    \n",
    "class Library:\n",
    "    def __init__(self, books = []):\n",
    "        self.books = {}\n",
    "        if len(books) > 0:\n",
    "            for book in books:\n",
    "                self.books[book.isbn] = book\n",
    "    \n",
    "    def add_book(self, book):\n",
    "        self.books[book.isbn] = book\n",
    "        \n",
    "    def display_books(self):\n",
    "        books_information = ''\n",
    "        for book in self.books.values():\n",
    "            book_information = f'{book.display_info()}\\n'\n",
    "            books_information += book_information\n",
    "        return books_information\n",
    "    \n",
    "    def search_books_by_author(self, author_name):\n",
    "        books_title = ''\n",
    "        for book in self.books.values():\n",
    "            if book.author.name == author_name:\n",
    "                books_title += f'{book.title}\\n'\n",
    "        if books_title != '':\n",
    "            return books_title\n",
    "        return 'No books found'\n",
    "    \n",
    "    def search_books_by_title(self, title):\n",
    "        for book in self.books.values():\n",
    "            if book.title == title:\n",
    "                return book.display_info()\n",
    "        return 'No book found'\n",
    "                \n",
    "    def total_available_copies(self):\n",
    "        total_copies = 0\n",
    "        for book in self.books.values():\n",
    "            total_copies += book.available_copies\n",
    "        return total_copies"
   ]
  },
  {
   "cell_type": "code",
   "execution_count": 71,
   "id": "6539761d",
   "metadata": {
    "deletable": false,
    "editable": false,
    "nbgrader": {
     "cell_type": "code",
     "checksum": "c70c383b36159c9ef343bf4001f61868",
     "grade": false,
     "grade_id": "cell-908e42879aac0034",
     "locked": true,
     "schema_version": 3,
     "solution": false,
     "task": false
    }
   },
   "outputs": [
    {
     "name": "stdout",
     "output_type": "stream",
     "text": [
      "Introduction to Python, 978-1-234567-89-0, John Doe, 10\n",
      "Data Structures in Python, 978-1-234567-89-1, John Doe, 5\n",
      "Advanced Python Programming, 978-1-234567-89-2, John Doe, 1\n",
      "\n",
      "borrowed successfully\n",
      "returned successfully!\n",
      "Introduction to Python, 978-1-234567-89-0, John Doe, 9\n",
      "Data Structures in Python, 978-1-234567-89-1, John Doe, 6\n",
      "Advanced Python Programming, 978-1-234567-89-2, John Doe, 1\n",
      "\n",
      "Introduction to Python\n",
      "Data Structures in Python\n",
      "Advanced Python Programming\n",
      "\n",
      "Introduction to Python, 978-1-234567-89-0, John Doe, 9\n",
      "16\n"
     ]
    }
   ],
   "source": [
    "# Example Usage\n",
    "author1 = Author(\"John Doe\", 1980)\n",
    "book1 = Book(\"Introduction to Python\", \"978-1-234567-89-0\", author1, 10)\n",
    "book2 = Book(\"Data Structures in Python\", \"978-1-234567-89-1\", author1, 5)\n",
    "book3 = Book(\"Advanced Python Programming\", \"978-1-234567-89-2\", author1, 1)\n",
    "\n",
    "\n",
    "library = Library()\n",
    "library.add_book(book1)\n",
    "library.add_book(book2)\n",
    "library.add_book(book3)\n",
    "\n",
    "# Display information about the books in the library\n",
    "print(library.display_books())\n",
    "\n",
    "# Borrow a copy of a book\n",
    "print(library.books[book1.isbn].borrow_copy())\n",
    "\n",
    "# Return a copy of a book\n",
    "print(library.books[book2.isbn].return_copy())\n",
    "\n",
    "# Display updated information about the books in the library\n",
    "print(library.display_books())\n",
    "\n",
    "# Search for books by a specific author\n",
    "print(library.search_books_by_author(\"John Doe\"))\n",
    "\n",
    "# Search for a book by title\n",
    "print(library.search_books_by_title(\"Introduction to Python\"))\n",
    "\n",
    "# Get the total number of available copies in the library\n",
    "print(library.total_available_copies())\n"
   ]
  },
  {
   "cell_type": "code",
   "execution_count": 72,
   "id": "5895c9b2",
   "metadata": {},
   "outputs": [
    {
     "name": "stdout",
     "output_type": "stream",
     "text": [
      "Display information about the books in the library\n",
      "Introduction to Python, 978-1-234567-89-0, John Doe, 10\n",
      "Data Structures in Python, 978-1-234567-89-1, John Doe, 5\n",
      "Advanced Python Programming, 978-1-234567-89-2, John Doe, 1\n",
      "\n",
      "Borrow a copy of a book\n",
      "borrowed successfully\n",
      "Return a copy of a book\n",
      "returned successfully!\n",
      "Display updated information about the books in the library\n",
      "Introduction to Python, 978-1-234567-89-0, John Doe, 9\n",
      "Data Structures in Python, 978-1-234567-89-1, John Doe, 6\n",
      "Advanced Python Programming, 978-1-234567-89-2, John Doe, 1\n",
      "\n",
      "Search for books by a specific author\n",
      "Introduction to Python\n",
      "Data Structures in Python\n",
      "Advanced Python Programming\n",
      "\n",
      "Search for a book by title\n",
      "Introduction to Python, 978-1-234567-89-0, John Doe, 9\n",
      "Get the total number of available copies in the library\n",
      "16\n"
     ]
    }
   ],
   "source": [
    "# Example Usage\n",
    "author1 = Author(\"John Doe\", 1980)\n",
    "book1 = Book(\"Introduction to Python\", \"978-1-234567-89-0\", author1, 10)\n",
    "book2 = Book(\"Data Structures in Python\", \"978-1-234567-89-1\", author1, 5)\n",
    "book3 = Book(\"Advanced Python Programming\", \"978-1-234567-89-2\", author1, 1)\n",
    "\n",
    "\n",
    "library = Library()\n",
    "library.add_book(book1)\n",
    "library.add_book(book2)\n",
    "library.add_book(book3)\n",
    "\n",
    "# Display information about the books in the library\n",
    "print('Display information about the books in the library')\n",
    "print(library.display_books())\n",
    "\n",
    "# Borrow a copy of a book\n",
    "print('Borrow a copy of a book')\n",
    "print(library.books[book1.isbn].borrow_copy())\n",
    "\n",
    "# Return a copy of a book\n",
    "print('Return a copy of a book')\n",
    "print(library.books[book2.isbn].return_copy())\n",
    "\n",
    "# Display updated information about the books in the library\n",
    "print('Display updated information about the books in the library')\n",
    "print(library.display_books())\n",
    "\n",
    "# Search for books by a specific author\n",
    "print('Search for books by a specific author')\n",
    "print(library.search_books_by_author(\"John Doe\"))\n",
    "\n",
    "# Search for a book by title\n",
    "print('Search for a book by title')\n",
    "print(library.search_books_by_title(\"Introduction to Python\"))\n",
    "\n",
    "# Get the total number of available copies in the library\n",
    "print('Get the total number of available copies in the library')\n",
    "print(library.total_available_copies())\n"
   ]
  },
  {
   "cell_type": "markdown",
   "id": "a32aa701",
   "metadata": {
    "deletable": false,
    "editable": false,
    "nbgrader": {
     "cell_type": "markdown",
     "checksum": "6b79e88ebeb7ab751412c029f6f8619f",
     "grade": false,
     "grade_id": "cell-3e4d356266f73aef",
     "locked": true,
     "schema_version": 3,
     "solution": false,
     "task": false
    }
   },
   "source": [
    "In the context of Python's unittest framework, each test case is executed in a new instance of the test case class. When a test case is run, the `setUp` method is called before each test method, and the `tearDown` method is called after each test method. "
   ]
  },
  {
   "cell_type": "markdown",
   "id": "cff949fd",
   "metadata": {
    "deletable": false,
    "editable": false,
    "nbgrader": {
     "cell_type": "markdown",
     "checksum": "7d013838c2dcdf80df1d5d7c91799c4f",
     "grade": false,
     "grade_id": "cell-eb56480e967ee580",
     "locked": true,
     "schema_version": 3,
     "solution": false,
     "task": false
    }
   },
   "source": [
    "Test cases were created as follows.\n",
    "\n",
    "**Author Class Test Cases:**\n",
    "- Test Case 1.1: Create an Author instance with a valid name and birth year.\n",
    "- Test Case 1.2: Verify that display_info() method returns a string.\n",
    "\n",
    "**Book Class Test Cases:**\n",
    "- Test Case 2.1: Create a Book instance with a valid title, ISBN, Author instance, and available copies.\n",
    "- Test Case 2.2: Verify that display_info() method returns a string.\n",
    "- Test Case 2.3: Borrow a copy of a book with available copies.\n",
    "- Test Case 2.4: Return a copy of a book.\n",
    "- Test Case 2.5: Attempt to borrow a copy of a book with no available copies.\n",
    "\n",
    "**Library Class Test Cases:**\n",
    "- Test Case 3.1: Create a Library instance.\n",
    "- Test Case 3.2: Add a Book instance to the Library.\n",
    "- Test Case 3.3: Verify that display_books() method returns a string.\n",
    "- Test Case 3.4: Search for books by a valid author's name.\n",
    "- Test Case 3.5: Search for a book by a valid title.\n",
    "- Test Case 3.6: Attempt to search for books by an invalid author's name.\n",
    "- Test Case 3.7: Attempt to search for a non-existing book by title.\n",
    "- Test Case 3.8: Verify that total_available_copies() method returns an integer."
   ]
  },
  {
   "cell_type": "code",
   "execution_count": 73,
   "id": "94426b49",
   "metadata": {
    "deletable": false,
    "editable": false,
    "nbgrader": {
     "cell_type": "code",
     "checksum": "ac6000a1c9081de1ce4e689418dfbc3e",
     "grade": false,
     "grade_id": "cell-95555308a475811e",
     "locked": true,
     "schema_version": 3,
     "solution": false,
     "task": false
    }
   },
   "outputs": [],
   "source": [
    "import unittest\n",
    "\n",
    "class TestAuthor(unittest.TestCase):\n",
    "    \n",
    "    def setUp(self): \n",
    "        self.author = Author(\"John Doe\", 1980)\n",
    "\n",
    "    def test_author_creation(self):\n",
    "        # Test Case 1.1\n",
    "        self.assertIsInstance(self.author, Author)\n",
    "        print(\"Test Case 1.1 passed\")\n",
    "\n",
    "    def test_author_display_info(self):\n",
    "        # Test Case 1.2\n",
    "        author_info = self.author.display_info()\n",
    "        self.assertIsInstance(author_info, str)\n",
    "        self.assertIn(\"John Doe\", author_info)\n",
    "        self.assertIn(\"1980\", author_info)\n",
    "        print(\"Test Case 1.2 passed\")\n",
    "\n",
    "class TestBook(unittest.TestCase):    \n",
    "  \n",
    "    def setUp(self): \n",
    "        self.author = Author(\"John Doe\", 1980)\n",
    "        self.book1 = Book(\"Introduction to Python\", \"978-1-234567-89-0\", self.author, 10)\n",
    "        self.book2 = Book(\"Data Structures in Python\", \"978-1-234567-89-1\", self.author, 5)\n",
    "        self.book3 = Book(\"Advanced Python Programming\", \"978-1-234567-89-2\", self.author, 1)\n",
    "        \n",
    "    def test_book_creation(self):\n",
    "        # Test Case 2.1\n",
    "        self.assertIsInstance(self.book1, Book)\n",
    "        print(\"Test Case 2.1 passed\")\n",
    "\n",
    "    def test_book_display_info(self):\n",
    "        # Test Case 2.2\n",
    "        book_info = self.book1.display_info()\n",
    "        self.assertIsInstance(book_info, str)\n",
    "        self.assertIn(\"Introduction to Python\", book_info)\n",
    "        self.assertIn(\"978-1-234567-89-0\", book_info)\n",
    "        self.assertIn(\"John Doe\", book_info)\n",
    "        self.assertIn(\"10\", book_info)\n",
    "        print(\"Test Case 2.2 passed\")\n",
    "\n",
    "    def test_borrow_copy(self):\n",
    "        # Test Case 2.3\n",
    "        borrow_result = self.book1.borrow_copy()\n",
    "        self.assertIsInstance(borrow_result, str)\n",
    "        self.assertIn(\"borrowed successfully\", borrow_result)\n",
    "        print(\"Test Case 2.3 passed\")\n",
    "\n",
    "    def test_return_copy(self):\n",
    "        # Test Case 2.4\n",
    "        return_result = self.book2.return_copy()\n",
    "        self.assertIsInstance(return_result, str)\n",
    "        self.assertIn(\"returned successfully\", return_result)\n",
    "        print(\"Test Case 2.4 passed\")\n",
    "\n",
    "    def test_borrow_copy_no_available_copies(self):\n",
    "        # Test Case 2.5\n",
    "        self.book3.borrow_copy()  # Borrow the only available copy\n",
    "        borrow_result = self.book3.borrow_copy()\n",
    "        self.assertIsInstance(borrow_result, str)\n",
    "        self.assertIn(\"currently unavailable\", borrow_result)\n",
    "        print(\"Test Case 2.5 passed\")\n",
    "\n",
    "class TestLibrary(unittest.TestCase):\n",
    "  \n",
    "    def setUp(self): \n",
    "        self.author = Author(\"John Doe\", 1980)\n",
    "        self.book1 = Book(\"Introduction to Python\", \"978-1-234567-89-0\", self.author, 10)\n",
    "        self.book2 = Book(\"Data Structures in Python\", \"978-1-234567-89-1\", self.author, 5)\n",
    "        self.book3 = Book(\"Advanced Python Programming\", \"978-1-234567-89-2\", self.author, 1)\n",
    "        self.library = Library()\n",
    "        self.library.add_book(self.book1)\n",
    "        self.library.add_book(self.book2)\n",
    "        self.library.add_book(self.book3)\n",
    "        \n",
    "    def test_library_creation(self):\n",
    "        # Test Case 3.1\n",
    "        self.assertIsInstance(self.library, Library)\n",
    "        print(\"Test Case 3.1 passed\")\n",
    "\n",
    "    def test_add_book(self):\n",
    "        # Test Case 3.2\n",
    "        self.assertEqual(len(self.library.books), 3)\n",
    "        print(\"Test Case 3.2 passed\")\n",
    "\n",
    "    def test_display_books(self):\n",
    "        # Test Case 3.3\n",
    "        library_info = self.library.display_books()\n",
    "        self.assertIsInstance(library_info, str)\n",
    "        self.assertIn(\"Introduction to Python\", library_info)\n",
    "        self.assertIn(\"Data Structures in Python\", library_info)\n",
    "        self.assertIn(\"Advanced Python Programming\", library_info)\n",
    "        print(\"Test Case 3.3 passed\")\n",
    "\n",
    "    def test_search_books_by_author(self):\n",
    "        # Test Case 3.4\n",
    "        author_books = self.library.search_books_by_author(\"John Doe\")\n",
    "        self.assertIsInstance(author_books, str)\n",
    "        self.assertIn(\"Introduction to Python\", author_books)\n",
    "        print(\"Test Case 3.4 passed\")\n",
    "\n",
    "    def test_search_books_by_title(self):\n",
    "        # Test Case 3.5\n",
    "        book_info = self.library.search_books_by_title(\"Introduction to Python\")\n",
    "        self.assertIsInstance(book_info, str)\n",
    "        self.assertIn(\"Introduction to Python\", book_info)\n",
    "        print(\"Test Case 3.5 passed\")\n",
    "\n",
    "    def test_search_books_by_invalid_author(self):\n",
    "        # Test Case 3.6\n",
    "        not_found_msg = self.library.search_books_by_author(\"Unknown Author\")\n",
    "        self.assertIsInstance(not_found_msg, str)\n",
    "        self.assertIn(\"No books found\", not_found_msg)\n",
    "        print(\"Test Case 3.6 passed\")\n",
    "\n",
    "    def test_search_books_by_non_existing_title(self):\n",
    "        # Test Case 3.7\n",
    "        not_found_msg = self.library.search_books_by_title(\"Non-Existing Title\")\n",
    "        self.assertIsInstance(not_found_msg, str)\n",
    "        self.assertIn(\"No book found\", not_found_msg)\n",
    "        print(\"Test Case 3.7 passed\")\n",
    "\n",
    "    def test_total_available_copies(self):\n",
    "        # Test Case 3.8\n",
    "        isbn = \"978-1-234567-89-0\"\n",
    "        self.library.books[isbn].borrow_copy()\n",
    "        self.library.books[isbn].borrow_copy()\n",
    "        self.library.books[isbn].return_copy()\n",
    "        total_copies = self.library.total_available_copies()\n",
    "        self.assertIsInstance(total_copies, int)\n",
    "        self.assertEqual(total_copies, 15)\n",
    "        print(\"Test Case 3.8 passed\")"
   ]
  },
  {
   "cell_type": "code",
   "execution_count": 74,
   "id": "420c73ff",
   "metadata": {
    "deletable": false,
    "editable": false,
    "nbgrader": {
     "cell_type": "code",
     "checksum": "1440e593f77c1202b0adfb48ccfec193",
     "grade": true,
     "grade_id": "cell-71892696ad6a72a0",
     "locked": true,
     "points": 1,
     "schema_version": 3,
     "solution": false,
     "task": false
    }
   },
   "outputs": [
    {
     "name": "stderr",
     "output_type": "stream",
     "text": [
      "..\n",
      "----------------------------------------------------------------------\n",
      "Ran 2 tests in 0.004s\n",
      "\n",
      "OK\n"
     ]
    },
    {
     "name": "stdout",
     "output_type": "stream",
     "text": [
      "Test Case 1.1 passed\n",
      "Test Case 1.2 passed\n"
     ]
    }
   ],
   "source": [
    "# Load and run TestAuthor\n",
    "result = unittest.TextTestRunner().run(unittest.TestLoader().loadTestsFromTestCase(TestAuthor))"
   ]
  },
  {
   "cell_type": "code",
   "execution_count": 75,
   "id": "45d26a59",
   "metadata": {
    "deletable": false,
    "editable": false,
    "nbgrader": {
     "cell_type": "code",
     "checksum": "9924f731d2c0772f712dad11bfb1b7e9",
     "grade": true,
     "grade_id": "cell-9ef6ef2a9fa48788",
     "locked": true,
     "points": 2,
     "schema_version": 3,
     "solution": false,
     "task": false
    }
   },
   "outputs": [
    {
     "name": "stderr",
     "output_type": "stream",
     "text": [
      ".....\n",
      "----------------------------------------------------------------------\n",
      "Ran 5 tests in 0.008s\n",
      "\n",
      "OK\n"
     ]
    },
    {
     "name": "stdout",
     "output_type": "stream",
     "text": [
      "Test Case 2.1 passed\n",
      "Test Case 2.2 passed\n",
      "Test Case 2.3 passed\n",
      "Test Case 2.5 passed\n",
      "Test Case 2.4 passed\n"
     ]
    },
    {
     "data": {
      "text/plain": [
       "<unittest.runner.TextTestResult run=5 errors=0 failures=0>"
      ]
     },
     "execution_count": 75,
     "metadata": {},
     "output_type": "execute_result"
    }
   ],
   "source": [
    "# Load and run TestBook\n",
    "unittest.TextTestRunner().run(unittest.TestLoader().loadTestsFromTestCase(TestBook))"
   ]
  },
  {
   "cell_type": "code",
   "execution_count": 76,
   "id": "afaa96f1",
   "metadata": {
    "deletable": false,
    "editable": false,
    "nbgrader": {
     "cell_type": "code",
     "checksum": "700d161b048e705a9ccda5c4e03337d5",
     "grade": true,
     "grade_id": "cell-ee24ead1bc0f5132",
     "locked": true,
     "points": 2,
     "schema_version": 3,
     "solution": false,
     "task": false
    }
   },
   "outputs": [
    {
     "name": "stderr",
     "output_type": "stream",
     "text": [
      "........\n",
      "----------------------------------------------------------------------\n",
      "Ran 8 tests in 0.007s\n",
      "\n",
      "OK\n"
     ]
    },
    {
     "name": "stdout",
     "output_type": "stream",
     "text": [
      "Test Case 3.2 passed\n",
      "Test Case 3.3 passed\n",
      "Test Case 3.1 passed\n",
      "Test Case 3.4 passed\n",
      "Test Case 3.6 passed\n",
      "Test Case 3.7 passed\n",
      "Test Case 3.5 passed\n",
      "Test Case 3.8 passed\n"
     ]
    },
    {
     "data": {
      "text/plain": [
       "<unittest.runner.TextTestResult run=8 errors=0 failures=0>"
      ]
     },
     "execution_count": 76,
     "metadata": {},
     "output_type": "execute_result"
    }
   ],
   "source": [
    "# Load and run TestLibrary\n",
    "unittest.TextTestRunner().run(unittest.TestLoader().loadTestsFromTestCase(TestLibrary))"
   ]
  },
  {
   "cell_type": "code",
   "execution_count": null,
   "id": "be3429c3",
   "metadata": {},
   "outputs": [],
   "source": []
  },
  {
   "cell_type": "code",
   "execution_count": null,
   "id": "5724f36f",
   "metadata": {},
   "outputs": [],
   "source": []
  }
 ],
 "metadata": {
  "kernelspec": {
   "display_name": "Python 3 (ipykernel)",
   "language": "python",
   "name": "python3"
  },
  "language_info": {
   "codemirror_mode": {
    "name": "ipython",
    "version": 3
   },
   "file_extension": ".py",
   "mimetype": "text/x-python",
   "name": "python",
   "nbconvert_exporter": "python",
   "pygments_lexer": "ipython3",
   "version": "3.9.12"
  }
 },
 "nbformat": 4,
 "nbformat_minor": 5
}
